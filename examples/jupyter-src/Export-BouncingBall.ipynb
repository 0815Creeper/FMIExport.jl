{
 "cells": [
  {
   "cell_type": "markdown",
   "id": "db4395fe-0874-4976-a0de-206787f79e77",
   "metadata": {},
   "source": [
    "# Create a Bouncing Ball FMU\n",
    "\n",
    "Tutorial by Johannes Stoljar, Tobias Thummerer, Simon Exner | Last edit: October 29 2024\n",
    "\n",
    "### This is a placeholder example it will be changed or replaced soon\n",
    "\n",
    "## License"
   ]
  },
  {
   "cell_type": "code",
   "execution_count": 1,
   "id": "7b5524a2-a822-431b-a3d0-d9b417b64c87",
   "metadata": {
    "execution": {
     "iopub.execute_input": "2024-11-04T10:15:23.344000Z",
     "iopub.status.busy": "2024-11-04T10:15:22.907000Z",
     "iopub.status.idle": "2024-11-04T10:15:23.626000Z",
     "shell.execute_reply": "2024-11-04T10:15:23.579000Z"
    }
   },
   "outputs": [],
   "source": [
    "# Copyright (c) 2021 Tobias Thummerer, Lars Mikelsons, Josef Kircher, Johannes Stoljar\n",
    "# Licensed under the MIT license.\n",
    "# See LICENSE (https://github.com/thummeto/FMIExport.jl/blob/main/LICENSE) file in the project root for details."
   ]
  },
  {
   "cell_type": "markdown",
   "id": "684f4ee9-af54-4781-a49d-3f5d0d89c4fe",
   "metadata": {},
   "source": [
    "## Motivation\n",
    "\n",
    "This Julia Package FMIExport.jl is motivated by the export of simulation models in Julia. Here the FMI specification is implemented. FMI (Functional Mock-up Interface) is a free standard ([fmi-standard.org](https://fmi-standard.org)) that defines a container and an interface to exchange dynamic models using a combination of XML files, binaries and C code zipped into a single file. The user is able to create own FMUs (Functional Mock-up Units)."
   ]
  },
  {
   "cell_type": "markdown",
   "id": "be2ac71e-a3b0-4bc3-91d9-a4f0ec2a4377",
   "metadata": {},
   "source": [
    "## Target group\n",
    "\n",
    "The example is primarily intended for users who work in the field of simulations. The example wants to show how simple it is to export FMUs in Julia."
   ]
  },
  {
   "cell_type": "markdown",
   "id": "7e21f7c8-d9d7-4259-9729-a69c6605b26d",
   "metadata": {},
   "source": [
    "## Introduction to the example\n",
    "\n",
    "This example shows how to export a FMU from julia-code. It uses the BouncingBall FMU, that can be found on the main branch of FMIExport in [examples/FMI2/BouncingBall](https://github.com/ThummeTo/FMIExport.jl/tree/main/examples/FMI2/BouncingBall). This notebook will show you how to export it."
   ]
  },
  {
   "cell_type": "markdown",
   "id": "18e579c8-31c9-4753-8079-4bb1f082439b",
   "metadata": {},
   "source": [
    "## Installation prerequisites\n",
    "\n",
    "|     | Description                       | Command                   | Alternative                                    |\n",
    "|:----|:----------------------------------|:--------------------------|:-----------------------------------------------|\n",
    "| 1.  | Enter Package Manager via         | ]                         |                                                |\n",
    "| 2.  | Install FMIExport via             | add FMIExport             | add \"https://github.com/ThummeTo/FMIExport.jl\" |\n",
    "| 3.  | Install FMIBuild via              | add FMIBuild              | add \"https://github.com/ThummeTo/FMIBuild.jl\"  |"
   ]
  },
  {
   "cell_type": "markdown",
   "id": "c354487b-99e1-4428-ad6f-cc535008df78",
   "metadata": {},
   "source": [
    "## REPL-commands or build-script\n",
    "\n",
    "The way to do this usually will be the REPL, but if you plan on exporting FMUs in an automated way, you may want to use a jl script containing the following commands.\n",
    "To run this example, the previously installed packages must be included."
   ]
  },
  {
   "cell_type": "code",
   "execution_count": 2,
   "id": "1acea4a0-3817-4559-a47f-d880cc78d3e4",
   "metadata": {
    "execution": {
     "iopub.execute_input": "2024-11-04T10:15:23.626000Z",
     "iopub.status.busy": "2024-11-04T10:15:23.626000Z",
     "iopub.status.idle": "2024-11-04T10:15:26.237000Z",
     "shell.execute_reply": "2024-11-04T10:15:26.237000Z"
    }
   },
   "outputs": [],
   "source": [
    "using FMIExport\n",
    "using FMIBuild: saveFMU"
   ]
  },
  {
   "cell_type": "markdown",
   "id": "a42e20da-526a-4d13-aeb4-6c758fc38003",
   "metadata": {},
   "source": [
    "next we have to define where to put the generated files"
   ]
  },
  {
   "cell_type": "code",
   "execution_count": 3,
   "id": "edf9d24c-ee04-4371-9d62-70c6b6dfefa1",
   "metadata": {
    "execution": {
     "iopub.execute_input": "2024-11-04T10:15:26.378000Z",
     "iopub.status.busy": "2024-11-04T10:15:26.253000Z",
     "iopub.status.idle": "2024-11-04T10:15:27.643000Z",
     "shell.execute_reply": "2024-11-04T10:15:27.643000Z"
    }
   },
   "outputs": [
    {
     "name": "stderr",
     "output_type": "stream",
     "text": [
      "\u001b[36m\u001b[1m[ \u001b[22m\u001b[39m\u001b[36m\u001b[1mInfo: \u001b[22m\u001b[39mSaving example files at: C:\\Users\\RUNNER~1\\AppData\\Local\\Temp\\fmibuildjl_test_2ImKuN\n"
     ]
    },
    {
     "data": {
      "text/plain": [
       "\"C:\\\\Users\\\\RUNNER~1\\\\AppData\\\\Local\\\\Temp\\\\fmibuildjl_test_2ImKuN\\\\BouncingBall.fmu\""
      ]
     },
     "execution_count": 3,
     "metadata": {},
     "output_type": "execute_result"
    }
   ],
   "source": [
    "tmpDir = mktempdir(; prefix=\"fmibuildjl_test_\", cleanup=false) \n",
    "@info \"Saving example files at: $(tmpDir)\"\n",
    "fmu_save_path = joinpath(tmpDir, \"BouncingBall.fmu\")  "
   ]
  },
  {
   "cell_type": "markdown",
   "id": "8fb29e5a-0384-499c-807b-302a49193c95",
   "metadata": {},
   "source": [
    "Remember, that we use the FMU-source stored at [examples/FMI2/BouncingBall](https://github.com/ThummeTo/FMIExport.jl/tree/main/examples/FMI2/BouncingBall). If you execute this notebook locally, make shure to ajust the fmu_source_path to where your FMU-Package resides. **It is important, that an absolute path is provided!** For this notebook to work in the automated bulid pipeline, this absolute path is obtained by the following instructions. If you run this example locally, you can provide the path manually, just make shure you use the correct directory seperator or just use just use julias `joinpath` function."
   ]
  },
  {
   "cell_type": "code",
   "execution_count": 4,
   "id": "eb90aa47-5203-4480-bc5c-fa79ed240a6f",
   "metadata": {
    "execution": {
     "iopub.execute_input": "2024-11-04T10:15:27.643000Z",
     "iopub.status.busy": "2024-11-04T10:15:27.643000Z",
     "iopub.status.idle": "2024-11-04T10:15:27.706000Z",
     "shell.execute_reply": "2024-11-04T10:15:27.706000Z"
    }
   },
   "outputs": [
    {
     "name": "stdout",
     "output_type": "stream",
     "text": [
      "pwd() returns: D:\\a\\FMIExport.jl\\FMIExport.jl\\examples\\jupyter-src\n",
      "package_dir is D:\\a\\FMIExport.jl\\FMIExport.jl\\\n",
      "fmu_source_package is D:\\a\\FMIExport.jl\\FMIExport.jl\\examples\\FMI2\\BouncingBall\n",
      "fmu_source_path is D:\\a\\FMIExport.jl\\FMIExport.jl\\examples\\FMI2\\BouncingBall\\src\\BouncingBall.jl\n"
     ]
    }
   ],
   "source": [
    "working_dir = pwd() # current working directory\n",
    "println(string(\"pwd() returns: \", working_dir))\n",
    "\n",
    "package_dir = split(working_dir, joinpath(\"examples\", \"jupyter-src\"))[1] # remove everything after and including \"examples\\jupyter-src\"\n",
    "println(string(\"package_dir is \", package_dir))\n",
    "\n",
    "fmu_source_package = joinpath(package_dir, \"examples\", \"FMI2\", \"BouncingBall\") # add correct relative path\n",
    "println(string(\"fmu_source_package is \", fmu_source_package))\n",
    "\n",
    "fmu_source_path = joinpath(fmu_source_package, \"src\", \"BouncingBall.jl\") # add correct relative path\n",
    "println(string(\"fmu_source_path is \", fmu_source_path))"
   ]
  },
  {
   "cell_type": "markdown",
   "id": "625f5898-c269-4146-8284-c1bd0e005819",
   "metadata": {},
   "source": [
    "TODO The following codecell contains *workardound* code that will be obsolete with the next release"
   ]
  },
  {
   "cell_type": "code",
   "execution_count": 5,
   "id": "d86f0783-05fd-4cb3-9be6-5997ab9cfbdd",
   "metadata": {
    "execution": {
     "iopub.execute_input": "2024-11-04T10:15:27.706000Z",
     "iopub.status.busy": "2024-11-04T10:15:27.706000Z",
     "iopub.status.idle": "2024-11-04T10:15:29.019000Z",
     "shell.execute_reply": "2024-11-04T10:15:29.019000Z"
    }
   },
   "outputs": [
    {
     "data": {
      "text/plain": [
       "Model name:\tBouncingBall\n",
       "Type:\t\t0"
      ]
     },
     "execution_count": 5,
     "metadata": {},
     "output_type": "execute_result"
    }
   ],
   "source": [
    "using FMIExport.FMIBase.FMICore: fmi2True, fmi2False \n",
    "\n",
    "EPS = 1e-6\n",
    "\n",
    "FMU_FCT_INIT = function()\n",
    "    m = 1.0         # ball mass\n",
    "    r = 0.0         # ball radius\n",
    "    d = 0.7         # ball collision damping\n",
    "    v_min = 1e-1    # ball minimum velocity\n",
    "    g = 9.81        # gravity constant \n",
    "    sticking = fmi2False\n",
    "\n",
    "    s = 1.0         # ball position\n",
    "    v = 0.0         # ball velocity\n",
    "    a = 0.0         # ball acceleration\n",
    "\n",
    "    t = 0.0        \n",
    "    x_c = [s, v]      \n",
    "    ẋ_c = [v, a]\n",
    "    x_d = [sticking]\n",
    "    u = []\n",
    "    p = [m, r, d, v_min, g]\n",
    "\n",
    "    return (t, x_c, ẋ_c, x_d, u, p)\n",
    "end\n",
    "\n",
    "FMU_FCT_EVALUATE = function(t, x_c, ẋ_c, x_d, u, p, eventMode)\n",
    "    m, r, d, v_min, g = p\n",
    "    s, v = x_c\n",
    "    sticking = x_d[1]\n",
    "    _, a = ẋ_c\n",
    "\n",
    "    if sticking == fmi2True\n",
    "        a = 0.0\n",
    "    elseif sticking == fmi2False\n",
    "        if eventMode\n",
    "            if s < r && v < 0.0\n",
    "                s = r + EPS # so that indicator is not triggered again\n",
    "                v = -v*d \n",
    "                \n",
    "                # stop bouncing to prevent high frequency bouncing (and maybe tunneling the floor)\n",
    "                if abs(v) < v_min\n",
    "                    sticking = fmi2True\n",
    "                    v = 0.0\n",
    "                end\n",
    "            end\n",
    "        else\n",
    "            # no specials in continuos time mode\n",
    "        end\n",
    "\n",
    "        a = (m * -g) / m     # the system's physical equation (a little longer than necessary)\n",
    "    else\n",
    "        @error \"Unknown value for `sticking` == $(sticking).\"\n",
    "        return (x_c, ẋ_c, x_d, p)\n",
    "    end\n",
    "\n",
    "    x_c = [s, v]\n",
    "    ẋ_c = [v, a]\n",
    "    x_d = [sticking]\n",
    "    p = [m, r, d, v_min, g]\n",
    "\n",
    "    return (x_c, ẋ_c, x_d, p) # evaluation can't change discrete state!\n",
    "end\n",
    "\n",
    "FMU_FCT_OUTPUT = function(t, x_c, ẋ_c, x_d, u, p)\n",
    "    m, r, d, v_min, g = p\n",
    "    s, v = x_c\n",
    "    _, a = ẋ_c\n",
    "    sticking = x_d[1]\n",
    "\n",
    "    y = [s]\n",
    "\n",
    "    return y\n",
    "end\n",
    "\n",
    "FMU_FCT_EVENT = function(t, x_c, ẋ_c, x_d, u, p)\n",
    "    m, r, d, v_min, g = p\n",
    "    s, v = x_c\n",
    "    _, a = ẋ_c\n",
    "    sticking = x_d[1]\n",
    "   \n",
    "    if sticking == fmi2True\n",
    "        z1 = 1.0            # event 1: ball stay-on-ground\n",
    "    else\n",
    "        z1 = (s-r)          # event 1: ball hits ground \n",
    "    end\n",
    "\n",
    "    z = [z1]\n",
    "\n",
    "    return z\n",
    "end\n",
    "FMIBUILD_CONSTRUCTOR = function(resPath=\"\")\n",
    "    fmu = fmi2CreateSimple(initializationFct=FMU_FCT_INIT,\n",
    "                        evaluationFct=FMU_FCT_EVALUATE,\n",
    "                        outputFct=FMU_FCT_OUTPUT,\n",
    "                        eventFct=FMU_FCT_EVENT)\n",
    "\n",
    "    fmu.modelDescription.modelName = \"BouncingBall\"\n",
    "\n",
    "    # modes \n",
    "    fmi2ModelDescriptionAddModelExchange(fmu.modelDescription, \"BouncingBall\")\n",
    "\n",
    "    # states [2]\n",
    "    fmi2AddStateAndDerivative(fmu, \"ball.s\"; stateDescr=\"Absolute position of ball center of mass\", derivativeDescr=\"Absolute velocity of ball center of mass\")\n",
    "    fmi2AddStateAndDerivative(fmu, \"ball.v\"; stateDescr=\"Absolute velocity of ball center of mass\", derivativeDescr=\"Absolute acceleration of ball center of mass\")\n",
    "\n",
    "    # discrete state [1]\n",
    "    fmi2AddIntegerDiscreteState(fmu, \"sticking\"; description=\"Indicator (boolean) if the mass is sticking on the ground, as soon as abs(v) < v_min\")\n",
    "\n",
    "    # outputs [1]\n",
    "    fmi2AddRealOutput(fmu, \"ball.s_out\"; description=\"Absolute position of ball center of mass\")\n",
    "\n",
    "    # parameters [5]\n",
    "    fmi2AddRealParameter(fmu, \"m\";     description=\"Mass of ball\")\n",
    "    fmi2AddRealParameter(fmu, \"r\";     description=\"Radius of ball\")\n",
    "    fmi2AddRealParameter(fmu, \"d\";     description=\"Collision damping constant (velocity fraction after hitting the ground)\")\n",
    "    fmi2AddRealParameter(fmu, \"v_min\"; description=\"Minimal ball velocity to enter on-ground-state\")\n",
    "    fmi2AddRealParameter(fmu, \"g\";     description=\"Gravity constant\")\n",
    "\n",
    "    fmi2AddEventIndicator(fmu)\n",
    "\n",
    "    return fmu\n",
    "end\n",
    "fmu = FMIBUILD_CONSTRUCTOR()"
   ]
  },
  {
   "cell_type": "markdown",
   "id": "95a4ce82-9320-4776-b382-d9fe650d8d83",
   "metadata": {},
   "source": [
    "TODO? It is questionable if this is the job of the library or the user... Currently it is not implemented and therefor the job of the user\n",
    "\n",
    "We need to make shure the fmu_source_package is instantiated"
   ]
  },
  {
   "cell_type": "code",
   "execution_count": 6,
   "id": "7e04c11a-2afa-4d91-8bfc-1595aefa1aa6",
   "metadata": {
    "execution": {
     "iopub.execute_input": "2024-11-04T10:15:29.019000Z",
     "iopub.status.busy": "2024-11-04T10:15:29.019000Z",
     "iopub.status.idle": "2024-11-04T10:15:39.618000Z",
     "shell.execute_reply": "2024-11-04T10:15:39.618000Z"
    }
   },
   "outputs": [
    {
     "name": "stderr",
     "output_type": "stream",
     "text": [
      "\u001b[32m\u001b[1m  Activating\u001b[22m\u001b[39m project at `D:\\a\\FMIExport.jl\\FMIExport.jl\\examples\\FMI2\\BouncingBall`\n"
     ]
    },
    {
     "name": "stderr",
     "output_type": "stream",
     "text": [
      "\u001b[32m\u001b[1m   Resolving\u001b[22m\u001b[39m package versions...\n"
     ]
    },
    {
     "name": "stderr",
     "output_type": "stream",
     "text": [
      "\u001b[32m\u001b[1m    Updating\u001b[22m\u001b[39m `D:\\a\\FMIExport.jl\\FMIExport.jl\\examples\\FMI2\\BouncingBall\\Project.toml`\n",
      "  \u001b[90m[226f0e26] \u001b[39m\u001b[92m+ FMIBuild v0.3.2\u001b[39m\n",
      "  \u001b[90m[31b88311] \u001b[39m\u001b[92m+ FMIExport v0.4.0 `D:\\a\\FMIExport.jl\\FMIExport.jl\\`\u001b[39m\n",
      "\u001b[32m\u001b[1m    Updating\u001b[22m\u001b[39m `D:\\a\\FMIExport.jl\\FMIExport.jl\\examples\\FMI2\\BouncingBall\\Manifest.toml`"
     ]
    },
    {
     "name": "stderr",
     "output_type": "stream",
     "text": [
      "\n",
      "  \u001b[90m[47edcb42] \u001b[39m\u001b[92m+ ADTypes v1.9.0\u001b[39m\n",
      "  \u001b[90m[7d9f7c33] \u001b[39m\u001b[92m+ Accessors v0.1.38\u001b[39m\n",
      "  \u001b[90m[79e6a3ab] \u001b[39m\u001b[92m+ Adapt v4.1.1\u001b[39m\n",
      "  \u001b[90m[4fba245c] \u001b[39m\u001b[92m+ ArrayInterface v7.16.0\u001b[39m\n",
      "  \u001b[90m[4c555306] \u001b[39m\u001b[92m+ ArrayLayouts v1.10.4\u001b[39m\n",
      "  \u001b[90m[62783981] \u001b[39m\u001b[92m+ BitTwiddlingConvenienceFunctions v0.1.6\u001b[39m\n",
      "  \u001b[90m[2a0fbf3d] \u001b[39m\u001b[92m+ CPUSummary v0.2.6\u001b[39m\n",
      "\u001b[33m⌅\u001b[39m \u001b[90m[d360d2e6] \u001b[39m\u001b[92m+ ChainRulesCore v1.24.0\u001b[39m\n",
      "  \u001b[90m[fb6a15b2] \u001b[39m\u001b[92m+ CloseOpenIntervals v0.1.13\u001b[39m\n",
      "  \u001b[90m[38540f10] \u001b[39m\u001b[92m+ CommonSolve v0.2.4\u001b[39m\n",
      "  \u001b[90m[bbf7d656] \u001b[39m\u001b[92m+ CommonSubexpressions v0.3.1\u001b[39m\n",
      "  \u001b[90m[f70d9fcc] \u001b[39m\u001b[92m+ CommonWorldInvalidations v1.0.0\u001b[39m\n",
      "  \u001b[90m[34da2185] \u001b[39m\u001b[92m+ Compat v4.16.0\u001b[39m\n",
      "  \u001b[90m[a33af91c] \u001b[39m\u001b[92m+ CompositionsBase v0.1.2\u001b[39m\n",
      "  \u001b[90m[2569d6c7] \u001b[39m\u001b[92m+ ConcreteStructs v0.2.3\u001b[39m\n",
      "  \u001b[90m[187b0558] \u001b[39m\u001b[92m+ ConstructionBase v1.5.8\u001b[39m\n",
      "  \u001b[90m[adafc99b] \u001b[39m\u001b[92m+ CpuId v0.3.1\u001b[39m\n",
      "  \u001b[90m[9a962f9c] \u001b[39m\u001b[92m+ DataAPI v1.16.0\u001b[39m\n",
      "  \u001b[90m[864edb3b] \u001b[39m\u001b[92m+ DataStructures v0.18.20\u001b[39m\n",
      "  \u001b[90m[e2d170a0] \u001b[39m\u001b[92m+ DataValueInterfaces v1.0.0\u001b[39m\n",
      "  \u001b[90m[2b5f629d] \u001b[39m\u001b[92m+ DiffEqBase v6.158.3\u001b[39m\n",
      "\u001b[33m⌅\u001b[39m \u001b[90m[459566f4] \u001b[39m\u001b[92m+ DiffEqCallbacks v3.9.1\u001b[39m\n",
      "  \u001b[90m[163ba53b] \u001b[39m\u001b[92m+ DiffResults v1.1.0\u001b[39m\n",
      "  \u001b[90m[b552c78f] \u001b[39m\u001b[92m+ DiffRules v1.15.1\u001b[39m\n",
      "  \u001b[90m[a0c0ee7d] \u001b[39m\u001b[92m+ DifferentiationInterface v0.6.18\u001b[39m\n",
      "  \u001b[90m[ffbed154] \u001b[39m\u001b[92m+ DocStringExtensions v0.9.3\u001b[39m\n",
      "  \u001b[90m[4e289a0a] \u001b[39m\u001b[92m+ EnumX v1.0.4\u001b[39m\n",
      "  \u001b[90m[f151be2c] \u001b[39m\u001b[92m+ EnzymeCore v0.8.5\u001b[39m\n",
      "  \u001b[90m[e2ba6199] \u001b[39m\u001b[92m+ ExprTools v0.1.10\u001b[39m\n",
      "\u001b[33m⌅\u001b[39m \u001b[90m[6b7a57c9] \u001b[39m\u001b[92m+ Expronicon v0.8.5\u001b[39m\n",
      "  \u001b[90m[8f5d6c58] \u001b[39m\u001b[92m+ EzXML v1.2.0\u001b[39m\n",
      "  \u001b[90m[900ee838] \u001b[39m\u001b[92m+ FMIBase v1.0.10\u001b[39m\n",
      "  \u001b[90m[226f0e26] \u001b[39m\u001b[92m+ FMIBuild v0.3.2\u001b[39m\n",
      "  \u001b[90m[8af89139] \u001b[39m\u001b[92m+ FMICore v1.1.1\u001b[39m\n",
      "  \u001b[90m[31b88311] \u001b[39m\u001b[92m+ FMIExport v0.4.0 `D:\\a\\FMIExport.jl\\FMIExport.jl\\`\u001b[39m\n",
      "  \u001b[90m[7034ab61] \u001b[39m\u001b[92m+ FastBroadcast v0.3.5\u001b[39m\n",
      "  \u001b[90m[9aa1b823] \u001b[39m\u001b[92m+ FastClosures v0.3.2\u001b[39m\n",
      "  \u001b[90m[29a986be] \u001b[39m\u001b[92m+ FastLapackInterface v2.0.4\u001b[39m\n",
      "  \u001b[90m[1a297f60] \u001b[39m\u001b[92m+ FillArrays v1.13.0\u001b[39m\n",
      "  \u001b[90m[6a86dc24] \u001b[39m\u001b[92m+ FiniteDiff v2.26.0\u001b[39m\n",
      "  \u001b[90m[f6369f11] \u001b[39m\u001b[92m+ ForwardDiff v0.10.37\u001b[39m\n",
      "  \u001b[90m[069b7b12] \u001b[39m\u001b[92m+ FunctionWrappers v1.1.3\u001b[39m\n",
      "  \u001b[90m[77dc65aa] \u001b[39m\u001b[92m+ FunctionWrappersWrappers v0.1.3\u001b[39m\n",
      "  \u001b[90m[d9f16b24] \u001b[39m\u001b[92m+ Functors v0.4.12\u001b[39m\n",
      "\u001b[32m⌃\u001b[39m \u001b[90m[46192b85] \u001b[39m\u001b[92m+ GPUArraysCore v0.1.6\u001b[39m\n",
      "  \u001b[90m[c27321d9] \u001b[39m\u001b[92m+ Glob v1.3.1\u001b[39m\n",
      "  \u001b[90m[3e5b6fbb] \u001b[39m\u001b[92m+ HostCPUFeatures v0.1.17\u001b[39m\n",
      "  \u001b[90m[615f187c] \u001b[39m\u001b[92m+ IfElse v0.1.1\u001b[39m\n",
      "  \u001b[90m[3587e190] \u001b[39m\u001b[92m+ InverseFunctions v0.1.17\u001b[39m\n",
      "  \u001b[90m[92d709cd] \u001b[39m\u001b[92m+ IrrationalConstants v0.2.2\u001b[39m\n",
      "  \u001b[90m[82899510] \u001b[39m\u001b[92m+ IteratorInterfaceExtensions v1.0.0\u001b[39m\n",
      "  \u001b[90m[692b3bcd] \u001b[39m\u001b[92m+ JLLWrappers v1.6.1\u001b[39m\n",
      "  \u001b[90m[ef3ab10e] \u001b[39m\u001b[92m+ KLU v0.6.0\u001b[39m\n",
      "  \u001b[90m[ba0b0d4f] \u001b[39m\u001b[92m+ Krylov v0.9.8\u001b[39m\n",
      "  \u001b[90m[10f19ff3] \u001b[39m\u001b[92m+ LayoutPointers v0.1.17\u001b[39m\n",
      "  \u001b[90m[5078a376] \u001b[39m\u001b[92m+ LazyArrays v2.2.1\u001b[39m\n",
      "  \u001b[90m[87fe0de2] \u001b[39m\u001b[92m+ LineSearch v0.1.4\u001b[39m\n",
      "  \u001b[90m[d3d80556] \u001b[39m\u001b[92m+ LineSearches v7.3.0\u001b[39m\n",
      "  \u001b[90m[7ed4a6bd] \u001b[39m\u001b[92m+ LinearSolve v2.36.2\u001b[39m\n",
      "  \u001b[90m[2ab3a3ac] \u001b[39m\u001b[92m+ LogExpFunctions v0.3.28\u001b[39m\n",
      "  \u001b[90m[bdcacae8] \u001b[39m\u001b[92m+ LoopVectorization v0.12.171\u001b[39m\n",
      "  \u001b[90m[d8e11817] \u001b[39m\u001b[92m+ MLStyle v0.4.17\u001b[39m\n",
      "  \u001b[90m[1914dd2f] \u001b[39m\u001b[92m+ MacroTools v0.5.13\u001b[39m\n",
      "  \u001b[90m[d125e4d3] \u001b[39m\u001b[92m+ ManualMemory v0.1.8\u001b[39m\n",
      "  \u001b[90m[bb5d69b7] \u001b[39m\u001b[92m+ MaybeInplace v0.1.4\u001b[39m\n",
      "  \u001b[90m[46d2c3a1] \u001b[39m\u001b[92m+ MuladdMacro v0.2.4\u001b[39m\n",
      "  \u001b[90m[d41bc354] \u001b[39m\u001b[92m+ NLSolversBase v7.8.3\u001b[39m\n",
      "  \u001b[90m[77ba4419] \u001b[39m\u001b[92m+ NaNMath v1.0.2\u001b[39m\n",
      "\u001b[33m⌅\u001b[39m \u001b[90m[8913a72c] \u001b[39m\u001b[92m+ NonlinearSolve v3.15.1\u001b[39m\n",
      "  \u001b[90m[6fe1bfb0] \u001b[39m\u001b[92m+ OffsetArrays v1.14.1\u001b[39m\n",
      "  \u001b[90m[bac558e1] \u001b[39m\u001b[92m+ OrderedCollections v1.6.3\u001b[39m\n",
      "  \u001b[90m[9b87118b] \u001b[39m\u001b[92m+ PackageCompiler v2.1.22\u001b[39m\n",
      "  \u001b[90m[65ce6f38] \u001b[39m\u001b[92m+ PackageExtensionCompat v1.0.2\u001b[39m\n",
      "  \u001b[90m[d96e819e] \u001b[39m\u001b[92m+ Parameters v0.12.3\u001b[39m\n",
      "  \u001b[90m[f517fe37] \u001b[39m\u001b[92m+ Polyester v0.7.16\u001b[39m\n",
      "  \u001b[90m[1d0040c9] \u001b[39m\u001b[92m+ PolyesterWeave v0.2.2\u001b[39m\n",
      "  \u001b[90m[d236fae5] \u001b[39m\u001b[92m+ PreallocationTools v0.4.24\u001b[39m\n",
      "  \u001b[90m[aea7be01] \u001b[39m\u001b[92m+ PrecompileTools v1.2.1\u001b[39m\n",
      "  \u001b[90m[21216c6a] \u001b[39m\u001b[92m+ Preferences v1.4.3\u001b[39m\n",
      "  \u001b[90m[92933f4c] \u001b[39m\u001b[92m+ ProgressMeter v1.10.2\u001b[39m\n",
      "  \u001b[90m[3cdcf5f2] \u001b[39m\u001b[92m+ RecipesBase v1.3.4\u001b[39m\n",
      "  \u001b[90m[731186ca] \u001b[39m\u001b[92m+ RecursiveArrayTools v3.27.3\u001b[39m\n",
      "  \u001b[90m[f2c3362d] \u001b[39m\u001b[92m+ RecursiveFactorization v0.2.23\u001b[39m\n",
      "  \u001b[90m[189a3867] \u001b[39m\u001b[92m+ Reexport v1.2.2\u001b[39m\n",
      "  \u001b[90m[05181044] \u001b[39m\u001b[92m+ RelocatableFolders v1.0.1\u001b[39m\n",
      "  \u001b[90m[ae029012] \u001b[39m\u001b[92m+ Requires v1.3.0\u001b[39m\n",
      "  \u001b[90m[7e49a35a] \u001b[39m\u001b[92m+ RuntimeGeneratedFunctions v0.5.13\u001b[39m\n",
      "  \u001b[90m[94e857df] \u001b[39m\u001b[92m+ SIMDTypes v0.1.0\u001b[39m\n",
      "  \u001b[90m[476501e8] \u001b[39m\u001b[92m+ SLEEFPirates v0.6.43\u001b[39m\n",
      "  \u001b[90m[0bca4576] \u001b[39m\u001b[92m+ SciMLBase v2.58.0\u001b[39m\n",
      "  \u001b[90m[19f34311] \u001b[39m\u001b[92m+ SciMLJacobianOperators v0.1.1\u001b[39m\n",
      "  \u001b[90m[c0aeaf25] \u001b[39m\u001b[92m+ SciMLOperators v0.3.12\u001b[39m\n",
      "  \u001b[90m[53ae85a6] \u001b[39m\u001b[92m+ SciMLStructures v1.5.0\u001b[39m\n",
      "  \u001b[90m[6c6a2e73] \u001b[39m\u001b[92m+ Scratch v1.2.1\u001b[39m\n",
      "  \u001b[90m[efcf1570] \u001b[39m\u001b[92m+ Setfield v1.1.1\u001b[39m\n",
      "\u001b[33m⌅\u001b[39m \u001b[90m[727e6d20] \u001b[39m\u001b[92m+ SimpleNonlinearSolve v1.12.3\u001b[39m\n",
      "  \u001b[90m[9f842d2f] \u001b[39m\u001b[92m+ SparseConnectivityTracer v0.6.8\u001b[39m\n",
      "  \u001b[90m[0a514795] \u001b[39m\u001b[92m+ SparseMatrixColorings v0.4.8\u001b[39m\n",
      "  \u001b[90m[e56a9233] \u001b[39m\u001b[92m+ Sparspak v0.3.9\u001b[39m\n",
      "  \u001b[90m[276daf66] \u001b[39m\u001b[92m+ SpecialFunctions v2.4.0\u001b[39m\n",
      "  \u001b[90m[aedffcd0] \u001b[39m\u001b[92m+ Static v1.1.1\u001b[39m\n",
      "  \u001b[90m[0d7ed370] \u001b[39m\u001b[92m+ StaticArrayInterface v1.8.0\u001b[39m\n",
      "  \u001b[90m[1e83bf80] \u001b[39m\u001b[92m+ StaticArraysCore v1.4.3\u001b[39m\n",
      "  \u001b[90m[7792a7ef] \u001b[39m\u001b[92m+ StrideArraysCore v0.5.7\u001b[39m\n",
      "  \u001b[90m[2efcf032] \u001b[39m\u001b[92m+ SymbolicIndexingInterface v0.3.34\u001b[39m\n",
      "  \u001b[90m[3783bdb8] \u001b[39m\u001b[92m+ TableTraits v1.0.1\u001b[39m\n",
      "  \u001b[90m[bd369af6] \u001b[39m\u001b[92m+ Tables v1.12.0\u001b[39m\n",
      "  \u001b[90m[8290d209] \u001b[39m\u001b[92m+ ThreadingUtilities v0.5.2\u001b[39m\n",
      "  \u001b[90m[a759f4b9] \u001b[39m\u001b[92m+ TimerOutputs v0.5.25\u001b[39m\n",
      "  \u001b[90m[d5829a12] \u001b[39m\u001b[92m+ TriangularSolve v0.2.1\u001b[39m\n",
      "  \u001b[90m[781d530d] \u001b[39m\u001b[92m+ TruncatedStacktraces v1.4.0\u001b[39m\n",
      "  \u001b[90m[3a884ed6] \u001b[39m\u001b[92m+ UnPack v1.0.2\u001b[39m\n",
      "  \u001b[90m[3d5dd08c] \u001b[39m\u001b[92m+ VectorizationBase v0.21.71\u001b[39m\n",
      "  \u001b[90m[a5390f91] \u001b[39m\u001b[92m+ ZipFile v0.10.1\u001b[39m\n",
      "  \u001b[90m[1d5cc7b8] \u001b[39m\u001b[92m+ IntelOpenMP_jll v2024.2.1+0\u001b[39m\n",
      "  \u001b[90m[94ce4f54] \u001b[39m\u001b[92m+ Libiconv_jll v1.17.0+1\u001b[39m\n",
      "  \u001b[90m[856f044c] \u001b[39m\u001b[92m+ MKL_jll v2024.2.0+0\u001b[39m\n",
      "  \u001b[90m[efe28fd5] \u001b[39m\u001b[92m+ OpenSpecFun_jll v0.5.5+0\u001b[39m\n",
      "  \u001b[90m[02c8fc9c] \u001b[39m\u001b[92m+ XML2_jll v2.13.4+0\u001b[39m\n",
      "  \u001b[90m[1317d2d5] \u001b[39m\u001b[92m+ oneTBB_jll v2021.12.0+0\u001b[39m\n",
      "  \u001b[90m[0dad84c5] \u001b[39m\u001b[92m+ ArgTools v1.1.1\u001b[39m\n",
      "  \u001b[90m[56f22d72] \u001b[39m\u001b[92m+ Artifacts\u001b[39m\n",
      "  \u001b[90m[2a0f44e3] \u001b[39m\u001b[92m+ Base64\u001b[39m\n",
      "  \u001b[90m[ade2ca70] \u001b[39m\u001b[92m+ Dates\u001b[39m\n",
      "  \u001b[90m[8ba89e20] \u001b[39m\u001b[92m+ Distributed\u001b[39m\n",
      "  \u001b[90m[f43a241f] \u001b[39m\u001b[92m+ Downloads v1.6.0\u001b[39m\n",
      "  \u001b[90m[7b1f6079] \u001b[39m\u001b[92m+ FileWatching\u001b[39m\n",
      "  \u001b[90m[9fa8497b] \u001b[39m\u001b[92m+ Future\u001b[39m\n",
      "  \u001b[90m[b77e0a4c] \u001b[39m\u001b[92m+ InteractiveUtils\u001b[39m\n",
      "  \u001b[90m[4af54fe1] \u001b[39m\u001b[92m+ LazyArtifacts\u001b[39m\n",
      "  \u001b[90m[b27032c2] \u001b[39m\u001b[92m+ LibCURL v0.6.4\u001b[39m\n",
      "  \u001b[90m[76f85450] \u001b[39m\u001b[92m+ LibGit2\u001b[39m\n",
      "  \u001b[90m[8f399da3] \u001b[39m\u001b[92m+ Libdl\u001b[39m\n",
      "  \u001b[90m[37e2e46d] \u001b[39m\u001b[92m+ LinearAlgebra\u001b[39m\n",
      "  \u001b[90m[56ddb016] \u001b[39m\u001b[92m+ Logging\u001b[39m\n",
      "  \u001b[90m[d6f4376e] \u001b[39m\u001b[92m+ Markdown\u001b[39m\n",
      "  \u001b[90m[ca575930] \u001b[39m\u001b[92m+ NetworkOptions v1.2.0\u001b[39m\n",
      "  \u001b[90m[44cfe95a] \u001b[39m\u001b[92m+ Pkg v1.10.0\u001b[39m\n",
      "  \u001b[90m[de0858da] \u001b[39m\u001b[92m+ Printf\u001b[39m\n",
      "  \u001b[90m[3fa0cd96] \u001b[39m\u001b[92m+ REPL\u001b[39m\n",
      "  \u001b[90m[9a3f8284] \u001b[39m\u001b[92m+ Random\u001b[39m\n",
      "  \u001b[90m[ea8e919c] \u001b[39m\u001b[92m+ SHA v0.7.0\u001b[39m\n",
      "  \u001b[90m[9e88b42a] \u001b[39m\u001b[92m+ Serialization\u001b[39m\n",
      "  \u001b[90m[6462fe0b] \u001b[39m\u001b[92m+ Sockets\u001b[39m\n",
      "  \u001b[90m[2f01184e] \u001b[39m\u001b[92m+ SparseArrays v1.10.0\u001b[39m\n",
      "  \u001b[90m[10745b16] \u001b[39m\u001b[92m+ Statistics v1.10.0\u001b[39m\n",
      "  \u001b[90m[fa267f1f] \u001b[39m\u001b[92m+ TOML v1.0.3\u001b[39m\n",
      "  \u001b[90m[a4e569a6] \u001b[39m\u001b[92m+ Tar v1.10.0\u001b[39m\n",
      "  \u001b[90m[8dfed614] \u001b[39m\u001b[92m+ Test\u001b[39m\n",
      "  \u001b[90m[cf7118a7] \u001b[39m\u001b[92m+ UUIDs\u001b[39m\n",
      "  \u001b[90m[4ec0a83e] \u001b[39m\u001b[92m+ Unicode\u001b[39m\n",
      "  \u001b[90m[e66e0078] \u001b[39m\u001b[92m+ CompilerSupportLibraries_jll v1.1.1+0\u001b[39m\n",
      "  \u001b[90m[deac9b47] \u001b[39m\u001b[92m+ LibCURL_jll v8.4.0+0\u001b[39m\n",
      "  \u001b[90m[e37daf67] \u001b[39m\u001b[92m+ LibGit2_jll v1.6.4+0\u001b[39m\n",
      "  \u001b[90m[29816b5a] \u001b[39m\u001b[92m+ LibSSH2_jll v1.11.0+1\u001b[39m\n",
      "  \u001b[90m[c8ffd9c3] \u001b[39m\u001b[92m+ MbedTLS_jll v2.28.2+1\u001b[39m\n",
      "  \u001b[90m[14a3606d] \u001b[39m\u001b[92m+ MozillaCACerts_jll v2023.1.10\u001b[39m\n",
      "  \u001b[90m[4536629a] \u001b[39m\u001b[92m+ OpenBLAS_jll v0.3.23+4\u001b[39m\n",
      "  \u001b[90m[05823500] \u001b[39m\u001b[92m+ OpenLibm_jll v0.8.1+2\u001b[39m\n",
      "  \u001b[90m[bea87d4a] \u001b[39m\u001b[92m+ SuiteSparse_jll v7.2.1+1\u001b[39m\n",
      "  \u001b[90m[83775a58] \u001b[39m\u001b[92m+ Zlib_jll v1.2.13+1\u001b[39m\n",
      "  \u001b[90m[8e850b90] \u001b[39m\u001b[92m+ libblastrampoline_jll v5.11.0+0\u001b[39m\n",
      "  \u001b[90m[8e850ede] \u001b[39m\u001b[92m+ nghttp2_jll v1.52.0+1\u001b[39m\n",
      "  \u001b[90m[3f19e933] \u001b[39m\u001b[92m+ p7zip_jll v17.4.0+2\u001b[39m\n",
      "\u001b[36m\u001b[1m        Info\u001b[22m\u001b[39m Packages marked with \u001b[32m⌃\u001b[39m and \u001b[33m⌅\u001b[39m have new versions available. Those with \u001b[32m⌃\u001b[39m may be upgradable, but those with \u001b[33m⌅\u001b[39m are restricted by compatibility constraints from upgrading. To see why use `status --outdated -m`\n",
      "\u001b[32m\u001b[1m  Activating\u001b[22m\u001b[39m project at `D:\\a\\FMIExport.jl\\FMIExport.jl\\examples`\n"
     ]
    }
   ],
   "source": [
    "using Pkg\n",
    "notebook_env = Base.active_project(); # save current enviroment to return to it after we are done\n",
    "Pkg.activate(fmu_source_package); # activate the FMUs enviroment\n",
    "\n",
    "# make shure to use the same FMI source as in the enviroment of this example (\"notebook_env\"). \n",
    "# As this example is automattically built using the local FMIExport package and not the one from the Juila registry, we need to add it using \"develop\". \n",
    "Pkg.develop(PackageSpec(path=package_dir)); # If you added FMIExport using \"add FMIExport\", you have to remove this line and use instantiate instead.\n",
    "# Pkg.instantiate(); # instantiate the FMUs enviroment only if develop was not previously called\n",
    "\n",
    "Pkg.activate(notebook_env); # return to the original notebooks enviroment"
   ]
  },
  {
   "cell_type": "markdown",
   "id": "c3c6ffee-d62f-40a1-826f-bccb5caffc36",
   "metadata": {},
   "source": [
    "That is all the preperation, that was necessary. Now we can export the FMU. \n",
    "\n",
    "TODO The following codecell contains *workardound* code that will need to be modified with the next release"
   ]
  },
  {
   "cell_type": "code",
   "execution_count": 7,
   "id": "ec7fe879-5ad4-4053-9676-eaf933b13804",
   "metadata": {
    "execution": {
     "iopub.execute_input": "2024-11-04T10:15:39.618000Z",
     "iopub.status.busy": "2024-11-04T10:15:39.618000Z",
     "iopub.status.idle": "2024-11-04T10:32:09.145000Z",
     "shell.execute_reply": "2024-11-04T10:32:09.145000Z"
    }
   },
   "outputs": [
    {
     "name": "stderr",
     "output_type": "stream",
     "text": [
      "\u001b[36m\u001b[1m[ \u001b[22m\u001b[39m\u001b[36m\u001b[1mInfo: \u001b[22m\u001b[39m[Build FMU] Generating package ...\n",
      "\u001b[36m\u001b[1m[ \u001b[22m\u001b[39m\u001b[36m\u001b[1mInfo: \u001b[22m\u001b[39m[Build FMU] Source package is D:\\a\\FMIExport.jl\\FMIExport.jl\\examples\\FMI2\\BouncingBall, deployed at C:/Users/RUNNER~1/AppData/Local/Temp/fmibuildjl_EbCMRV\\merged_BouncingBall\n",
      "\u001b[36m\u001b[1m[ \u001b[22m\u001b[39m\u001b[36m\u001b[1mInfo: \u001b[22m\u001b[39m[Build FMU] Relative src file path is src\\BouncingBall.jl\n",
      "\u001b[36m\u001b[1m[ \u001b[22m\u001b[39m\u001b[36m\u001b[1mInfo: \u001b[22m\u001b[39m[Build FMU] ... reading FMU template file at C:\\Users\\runneradmin\\.julia\\packages\\FMIBuild\\zfhlh\\src/../template/ME/FMU2/src/FMU2_content.jl\n",
      "\u001b[36m\u001b[1m[ \u001b[22m\u001b[39m\u001b[36m\u001b[1mInfo: \u001b[22m\u001b[39m[Build FMU] ... reading old FMU source file at C:/Users/RUNNER~1/AppData/Local/Temp/fmibuildjl_EbCMRV\\merged_BouncingBall\\src\\BouncingBall.jl\n",
      "\u001b[36m\u001b[1m[ \u001b[22m\u001b[39m\u001b[36m\u001b[1mInfo: \u001b[22m\u001b[39m[Build FMU] Removing `FMIBUILD_NO_EXPORT_*` blocks ...\n",
      "\u001b[36m\u001b[1m[ \u001b[22m\u001b[39m\u001b[36m\u001b[1mInfo: \u001b[22m\u001b[39m[Build FMU] ... removed `FMIBUILD_NO_EXPORT_*` blocks.\n",
      "\u001b[36m\u001b[1m[ \u001b[22m\u001b[39m\u001b[36m\u001b[1mInfo: \u001b[22m\u001b[39m[Build FMU] Adding/removing dependencies ...\n",
      "\u001b[36m\u001b[1m[ \u001b[22m\u001b[39m\u001b[36m\u001b[1mInfo: \u001b[22m\u001b[39m[Build FMU]    > Using active environment `D:\\a\\FMIExport.jl\\FMIExport.jl\\examples\\Project.toml`.\n",
      "\u001b[32m\u001b[1m  Activating\u001b[22m\u001b[39m project at `D:\\a\\FMIExport.jl\\FMIExport.jl\\examples`\n",
      "\u001b[32m\u001b[1m  Activating\u001b[22m\u001b[39m project at `C:\\Users\\RUNNER~1\\AppData\\Local\\Temp\\fmibuildjl_EbCMRV\\merged_BouncingBall`\n",
      "\u001b[36m\u001b[1m[ \u001b[22m\u001b[39m\u001b[36m\u001b[1mInfo: \u001b[22m\u001b[39m[Build FMU]    > Most recent version of `FMIExport` already checked out for FMU, is `D:\\a\\FMIExport.jl\\FMIExport.jl`.\n",
      "\u001b[36m\u001b[1m[ \u001b[22m\u001b[39m\u001b[36m\u001b[1mInfo: \u001b[22m\u001b[39m[Build FMU]    > Default environment `D:\\a\\FMIExport.jl\\FMIExport.jl\\examples\\Project.toml` has no dependency on `FMIBase`, adding `FMIBase` from registry.\n"
     ]
    },
    {
     "name": "stderr",
     "output_type": "stream",
     "text": [
      "\u001b[32m\u001b[1m    Updating\u001b[22m\u001b[39m registry at `C:\\Users\\runneradmin\\.julia\\registries\\General.toml`\n",
      "\u001b[32m\u001b[1m   Resolving\u001b[22m\u001b[39m package versions...\n"
     ]
    },
    {
     "name": "stderr",
     "output_type": "stream",
     "text": [
      "\u001b[32m\u001b[1m    Updating\u001b[22m\u001b[39m `C:\\Users\\runneradmin\\AppData\\Local\\Temp\\fmibuildjl_EbCMRV\\merged_BouncingBall\\Project.toml`\n",
      "  \u001b[90m[900ee838] \u001b[39m\u001b[92m+ FMIBase v1.0.10\u001b[39m\n",
      "\u001b[32m\u001b[1m  No Changes\u001b[22m\u001b[39m to `C:\\Users\\runneradmin\\AppData\\Local\\Temp\\fmibuildjl_EbCMRV\\merged_BouncingBall\\Manifest.toml`\n"
     ]
    },
    {
     "name": "stderr",
     "output_type": "stream",
     "text": [
      "\u001b[32m\u001b[1m    Updating\u001b[22m\u001b[39m `C:\\Users\\runneradmin\\AppData\\Local\\Temp\\fmibuildjl_EbCMRV\\merged_BouncingBall\\Project.toml`\n",
      "  \u001b[90m[226f0e26] \u001b[39m\u001b[91m- FMIBuild v0.3.2\u001b[39m\n",
      "\u001b[32m\u001b[1m    Updating\u001b[22m\u001b[39m `C:\\Users\\runneradmin\\AppData\\Local\\Temp\\fmibuildjl_EbCMRV\\merged_BouncingBall\\Manifest.toml`"
     ]
    },
    {
     "name": "stderr",
     "output_type": "stream",
     "text": [
      "\n",
      "  \u001b[90m[226f0e26] \u001b[39m\u001b[91m- FMIBuild v0.3.2\u001b[39m\n",
      "  \u001b[90m[c27321d9] \u001b[39m\u001b[91m- Glob v1.3.1\u001b[39m\n",
      "  \u001b[90m[9b87118b] \u001b[39m\u001b[91m- PackageCompiler v2.1.22\u001b[39m\n",
      "  \u001b[90m[05181044] \u001b[39m\u001b[91m- RelocatableFolders v1.0.1\u001b[39m\n",
      "  \u001b[90m[6c6a2e73] \u001b[39m\u001b[91m- Scratch v1.2.1\u001b[39m\n",
      "\u001b[36m\u001b[1m        Info\u001b[22m\u001b[39m We haven't cleaned this depot up for a bit, running Pkg.gc()...\n"
     ]
    },
    {
     "name": "stdout",
     "output_type": "stream",
     "text": [
      "\u001b[0mPackageCompiler: bundled libraries:\n",
      "  ├── Base:\n"
     ]
    },
    {
     "name": "stderr",
     "output_type": "stream",
     "text": [
      "\u001b[32m\u001b[1m      Active\u001b[22m\u001b[39m manifest files: 3 found\n",
      "\u001b[32m\u001b[1m      Active\u001b[22m\u001b[39m artifact files: 9 found\n",
      "\u001b[32m\u001b[1m      Active\u001b[22m\u001b[39m scratchspaces: 2 found\n",
      "\u001b[32m\u001b[1m     Deleted\u001b[22m\u001b[39m no artifacts, repos, packages or scratchspaces\n",
      "\u001b[36m\u001b[1m[ \u001b[22m\u001b[39m\u001b[36m\u001b[1mInfo: \u001b[22m\u001b[39m[Build FMU]    > Removed FMIBuild\n",
      "\u001b[32m\u001b[1m  Activating\u001b[22m\u001b[39m project at `D:\\a\\FMIExport.jl\\FMIExport.jl\\examples`\n",
      "\u001b[36m\u001b[1m[ \u001b[22m\u001b[39m\u001b[36m\u001b[1mInfo: \u001b[22m\u001b[39m[Build FMU] ... adding/removing dependencies done.\n",
      "\u001b[36m\u001b[1m[ \u001b[22m\u001b[39m\u001b[36m\u001b[1mInfo: \u001b[22m\u001b[39m[Build FMU] ... generating new FMU source file at C:/Users/RUNNER~1/AppData/Local/Temp/fmibuildjl_EbCMRV\\merged_BouncingBall\\src\\BouncingBall.jl\n",
      "\u001b[36m\u001b[1m[ \u001b[22m\u001b[39m\u001b[36m\u001b[1mInfo: \u001b[22m\u001b[39m[Build FMU] ... generating package done.\n",
      "\u001b[36m\u001b[1m[ \u001b[22m\u001b[39m\u001b[36m\u001b[1mInfo: \u001b[22m\u001b[39m[Build FMU] Compiling FMU ...\n"
     ]
    },
    {
     "name": "stdout",
     "output_type": "stream",
     "text": [
      "  │    ├── libLLVM-15jl.dll - 116.929 MiB\n",
      "  │    ├── libatomic-1.dll - 262.531 KiB\n",
      "  │    ├── libdSFMT.dll - 133.008 KiB\n",
      "  │    ├── libgcc_s_seh-1.dll - 767.164 KiB\n",
      "  │    ├── libgfortran-5.dll - 11.162 MiB\n",
      "  │    ├── libgmp-10.dll - 1.084 MiB\n",
      "  │    ├── libgmp.dll - 1.085 MiB\n",
      "  │    ├── libgmpxx-4.dll - 336.805 KiB\n",
      "  │    ├── libgmpxx.dll - 336.805 KiB\n",
      "  │    ├── libgomp-1.dll - 1.645 MiB\n",
      "  │    ├── libjulia-codegen.dll - 103.871 MiB\n",
      "  │    ├── libjulia-internal.dll - 13.218 MiB\n",
      "  │    ├── libmpfr-6.dll - 2.518 MiB\n",
      "  │    ├── libmpfr.dll - 2.519 MiB\n",
      "  │    ├── libopenlibm.dll - 384.734 KiB\n",
      "  │    ├── libpcre2-16-0.dll - 711.891 KiB\n",
      "  │    ├── libpcre2-16.dll - 711.891 KiB\n",
      "  │    ├── libpcre2-32-0.dll - 683.281 KiB\n",
      "  │    ├── libpcre2-32.dll - 684.141 KiB\n",
      "  │    ├── libpcre2-8-0.dll - 774.656 KiB\n",
      "  │    ├── libpcre2-8.dll - 774.781 KiB\n",
      "  │    ├── libpcre2-posix-3.dll - 127.047 KiB\n",
      "  │    ├── libquadmath-0.dll - 1.136 MiB\n",
      "  │    ├── libssp-0.dll - 143.898 KiB\n",
      "  │    ├── libstdc++-6.dll - 25.187 MiB\n"
     ]
    },
    {
     "name": "stdout",
     "output_type": "stream",
     "text": [
      "  │    ├── libuv-2.dll - 962.484 KiB\n",
      "  │    ├── libwinpthread-1.dll - 330.164 KiB\n",
      "  │    ├── libz.dll - 233.070 KiB\n",
      "  │    ├── libjulia.dll - 229.312 KiB\n",
      "  ├── Stdlibs:\n",
      "  │   ├── LibGit2_jll\n",
      "  │   │   ├── libgit2.dll - 1.920 MiB\n",
      "  │   ├── SuiteSparse_jll\n",
      "  │   │   ├── libamd.dll - 149.055 KiB\n",
      "  │   │   ├── libbtf.dll - 109.484 KiB\n",
      "  │   │   ├── libcamd.dll - 154.594 KiB\n",
      "  │   │   ├── libccolamd.dll - 151.844 KiB\n",
      "  │   │   ├── libcholmod.dll - 1.666 MiB\n",
      "  │   │   ├── libcolamd.dll - 134.875 KiB\n",
      "  │   │   ├── libklu.dll - 322.398 KiB\n",
      "  │   │   ├── libklu_cholmod.dll - 109.078 KiB\n",
      "  │   │   ├── libldl.dll - 109.539 KiB\n",
      "  │   │   ├── librbio.dll - 161.648 KiB\n",
      "  │   │   ├── libspqr.dll - 621.836 KiB\n",
      "  │   │   ├── libsuitesparseconfig.dll - 120.320 KiB\n",
      "  │   │   ├── libumfpack.dll - 1.009 MiB\n",
      "  │   ├── libblastrampoline_jll\n",
      "  │   │   ├── libblastrampoline-5.dll - 2.250 MiB\n",
      "  │   ├── OpenBLAS_jll\n",
      "  │   │   ├── libopenblas64_.dll - 35.182 MiB\n",
      "  │   ├── LibSSH2_jll\n",
      "  │   │   ├── libssh2.dll - 423.625 KiB\n",
      "  │   ├── LibCURL_jll\n",
      "  │   │   ├── libcurl-4.dll - 856.172 KiB\n",
      "  │   ├── MbedTLS_jll\n",
      "  │   │   ├── libmbedcrypto.dll - 705.938 KiB\n",
      "  │   │   ├── libmbedtls.dll - 379.828 KiB\n",
      "  │   │   ├── libmbedx509.dll - 277.492 KiB\n",
      "  │   ├── nghttp2_jll\n",
      "  │   │   ├── libnghttp2-14.dll - 868.602 KiB\n",
      "  Total library file size: 336.291 MiB\n"
     ]
    },
    {
     "name": "stderr",
     "output_type": "stream",
     "text": [
      "\u001b[32m\u001b[1m Downloading\u001b[22m\u001b[39m artifact: MKL\n"
     ]
    },
    {
     "name": "stdout",
     "output_type": "stream",
     "text": [
      "\u001b[0mPackageCompiler: bundled artifacts:\n",
      "  ├── IntelOpenMP_jll - 6.198 MiB\n",
      "  ├── Libiconv_jll - 4.043 MiB\n",
      "  ├── MKL_jll - 444.082 MiB\n"
     ]
    },
    {
     "name": "stdout",
     "output_type": "stream",
     "text": [
      "  ├── OpenSpecFun_jll - 798.680 KiB\n",
      "  ├── XML2_jll - 11.095 MiB\n"
     ]
    },
    {
     "name": "stdout",
     "output_type": "stream",
     "text": [
      "  └── oneTBB_jll - 3.461 MiB\n"
     ]
    },
    {
     "name": "stdout",
     "output_type": "stream",
     "text": [
      "  Total artifact file size: 469.659 MiB\n"
     ]
    },
    {
     "name": "stderr",
     "output_type": "stream",
     "text": [
      "\u001b[32m\u001b[1m Downloading\u001b[22m\u001b[39m artifact: mingw-w64\n"
     ]
    },
    {
     "name": "stderr",
     "output_type": "stream",
     "text": [
      "- PackageCompiler: creating compiler .ji image (incremental=false)\n"
     ]
    },
    {
     "name": "stderr",
     "output_type": "stream",
     "text": [
      "- PackageCompiler: compiling fresh sysimage (incremental=false)\n"
     ]
    },
    {
     "name": "stderr",
     "output_type": "stream",
     "text": [
      "\r\n",
      "[pid 6420] waiting for IO to finish:\r\n",
      " Handle type        uv_handle_t->data\r\n",
      " timer              000001b3cf1bc960->000001b3ddb2aa70\r\n"
     ]
    },
    {
     "name": "stderr",
     "output_type": "stream",
     "text": [
      "- PackageCompiler: compiling nonincremental system image\n"
     ]
    },
    {
     "name": "stderr",
     "output_type": "stream",
     "text": [
      "\u001b[32m\u001b[1mPrecompiling\u001b[22m\u001b[39m"
     ]
    },
    {
     "name": "stderr",
     "output_type": "stream",
     "text": [
      " project...\n"
     ]
    },
    {
     "name": "stderr",
     "output_type": "stream",
     "text": [
      "\u001b[32m  ✓ \u001b[39m\u001b[90mMuladdMacro\u001b[39m\n"
     ]
    },
    {
     "name": "stderr",
     "output_type": "stream",
     "text": [
      "\u001b[32m  ✓ \u001b[39m\u001b[90mConcreteStructs\u001b[39m\n"
     ]
    },
    {
     "name": "stderr",
     "output_type": "stream",
     "text": [
      "\u001b[32m  ✓ \u001b[39m\u001b[90mFunctionWrappers\u001b[39m\n"
     ]
    },
    {
     "name": "stderr",
     "output_type": "stream",
     "text": [
      "\u001b[32m  ✓ \u001b[39m\u001b[90mExprTools\u001b[39m\n"
     ]
    },
    {
     "name": "stderr",
     "output_type": "stream",
     "text": [
      "\u001b[32m  ✓ \u001b[39m\u001b[90mIteratorInterfaceExtensions\u001b[39m\n"
     ]
    },
    {
     "name": "stderr",
     "output_type": "stream",
     "text": [
      "\u001b[32m  ✓ \u001b[39m\u001b[90mLazyArtifacts\u001b[39m\n"
     ]
    },
    {
     "name": "stderr",
     "output_type": "stream",
     "text": [
      "\u001b[32m  ✓ \u001b[39m\u001b[90mFMICore\u001b[39m\n"
     ]
    },
    {
     "name": "stderr",
     "output_type": "stream",
     "text": [
      "\u001b[32m  ✓ \u001b[39m\u001b[90mADTypes\u001b[39m\n"
     ]
    },
    {
     "name": "stderr",
     "output_type": "stream",
     "text": [
      "\u001b[32m  ✓ \u001b[39m\u001b[90mOffsetArrays\u001b[39m\n"
     ]
    },
    {
     "name": "stderr",
     "output_type": "stream",
     "text": [
      "\u001b[32m  ✓ \u001b[39m\u001b[90mTest\u001b[39m\n"
     ]
    },
    {
     "name": "stderr",
     "output_type": "stream",
     "text": [
      "\u001b[32m  ✓ \u001b[39m\u001b[90mUnPack\u001b[39m\n"
     ]
    },
    {
     "name": "stderr",
     "output_type": "stream",
     "text": [
      "\u001b[32m  ✓ \u001b[39m\u001b[90mOpenLibm_jll\u001b[39m\n"
     ]
    },
    {
     "name": "stderr",
     "output_type": "stream",
     "text": [
      "\u001b[32m  ✓ \u001b[39m\u001b[90mInverseFunctions\u001b[39m\n"
     ]
    },
    {
     "name": "stderr",
     "output_type": "stream",
     "text": [
      "\u001b[32m  ✓ \u001b[39m\u001b[90mFillArrays\u001b[39m\n"
     ]
    },
    {
     "name": "stderr",
     "output_type": "stream",
     "text": [
      "\u001b[32m  ✓ \u001b[39m\u001b[90mCommonSolve\u001b[39m\n"
     ]
    },
    {
     "name": "stderr",
     "output_type": "stream",
     "text": [
      "\u001b[32m  ✓ \u001b[39m\u001b[90mCompilerSupportLibraries_jll\u001b[39m\n"
     ]
    },
    {
     "name": "stderr",
     "output_type": "stream",
     "text": [
      "\u001b[32m  ✓ \u001b[39m\u001b[90mSuiteSparse_jll\u001b[39m\n"
     ]
    },
    {
     "name": "stderr",
     "output_type": "stream",
     "text": [
      "\u001b[32m  ✓ \u001b[39m\u001b[90mDistributed\u001b[39m\n"
     ]
    },
    {
     "name": "stderr",
     "output_type": "stream",
     "text": [
      "\u001b[32m  ✓ \u001b[39m\u001b[90mManualMemory\u001b[39m\n"
     ]
    },
    {
     "name": "stderr",
     "output_type": "stream",
     "text": [
      "\u001b[32m  ✓ \u001b[39m\u001b[90mMacroTools\u001b[39m\n"
     ]
    },
    {
     "name": "stderr",
     "output_type": "stream",
     "text": [
      "\u001b[32m  ✓ \u001b[39m\u001b[90mPreferences\u001b[39m\n"
     ]
    },
    {
     "name": "stderr",
     "output_type": "stream",
     "text": [
      "\u001b[32m  ✓ \u001b[39m\u001b[90mCompat\u001b[39m\n"
     ]
    },
    {
     "name": "stderr",
     "output_type": "stream",
     "text": [
      "\u001b[32m  ✓ \u001b[39m\u001b[90mOrderedCollections\u001b[39m\n"
     ]
    },
    {
     "name": "stderr",
     "output_type": "stream",
     "text": [
      "\u001b[32m  ✓ \u001b[39m\u001b[90mRequires\u001b[39m\n"
     ]
    },
    {
     "name": "stderr",
     "output_type": "stream",
     "text": [
      "\u001b[32m  ✓ \u001b[39m\u001b[90mDataValueInterfaces\u001b[39m\n"
     ]
    },
    {
     "name": "stderr",
     "output_type": "stream",
     "text": [
      "\u001b[32m  ✓ \u001b[39m\u001b[90mEnumX\u001b[39m\n"
     ]
    },
    {
     "name": "stderr",
     "output_type": "stream",
     "text": [
      "\u001b[32m  ✓ \u001b[39m\u001b[90mReexport\u001b[39m\n"
     ]
    },
    {
     "name": "stderr",
     "output_type": "stream",
     "text": [
      "\u001b[32m  ✓ \u001b[39m\u001b[90mSIMDTypes\u001b[39m\n"
     ]
    },
    {
     "name": "stderr",
     "output_type": "stream",
     "text": [
      "\u001b[32m  ✓ \u001b[39m\u001b[90mZlib_jll\u001b[39m\n"
     ]
    },
    {
     "name": "stderr",
     "output_type": "stream",
     "text": [
      "\u001b[32m  ✓ \u001b[39m\u001b[90mDocStringExtensions\u001b[39m\n"
     ]
    },
    {
     "name": "stderr",
     "output_type": "stream",
     "text": [
      "\u001b[32m  ✓ \u001b[39m\u001b[90mCompositionsBase\u001b[39m\n"
     ]
    },
    {
     "name": "stderr",
     "output_type": "stream",
     "text": [
      "\u001b[32m  ✓ \u001b[39m\u001b[90mIrrationalConstants\u001b[39m\n"
     ]
    },
    {
     "name": "stderr",
     "output_type": "stream",
     "text": [
      "\u001b[32m  ✓ \u001b[39m\u001b[90mCpuId\u001b[39m\n"
     ]
    },
    {
     "name": "stderr",
     "output_type": "stream",
     "text": [
      "\u001b[32m  ✓ \u001b[39m\u001b[90mEnzymeCore\u001b[39m\n"
     ]
    },
    {
     "name": "stderr",
     "output_type": "stream",
     "text": [
      "\u001b[32m  ✓ \u001b[39m\u001b[90mIfElse\u001b[39m\n"
     ]
    },
    {
     "name": "stderr",
     "output_type": "stream",
     "text": [
      "\u001b[32m  ✓ \u001b[39m\u001b[90mConstructionBase\u001b[39m\n"
     ]
    },
    {
     "name": "stderr",
     "output_type": "stream",
     "text": [
      "\u001b[32m  ✓ \u001b[39m\u001b[90mCommonWorldInvalidations\u001b[39m\n"
     ]
    },
    {
     "name": "stderr",
     "output_type": "stream",
     "text": [
      "\u001b[32m  ✓ \u001b[39m\u001b[90mDataAPI\u001b[39m\n"
     ]
    },
    {
     "name": "stderr",
     "output_type": "stream",
     "text": [
      "\u001b[32m  ✓ \u001b[39m\u001b[90mPackageExtensionCompat\u001b[39m\n"
     ]
    },
    {
     "name": "stderr",
     "output_type": "stream",
     "text": [
      "\u001b[32m  ✓ \u001b[39m\u001b[90mFastClosures\u001b[39m\n"
     ]
    },
    {
     "name": "stderr",
     "output_type": "stream",
     "text": [
      "\u001b[32m  ✓ \u001b[39m\u001b[90mFunctors\u001b[39m\n"
     ]
    },
    {
     "name": "stderr",
     "output_type": "stream",
     "text": [
      "\u001b[32m  ✓ \u001b[39m\u001b[90mFastLapackInterface\u001b[39m\n"
     ]
    },
    {
     "name": "stderr",
     "output_type": "stream",
     "text": [
      "\u001b[32m  ✓ \u001b[39m\u001b[90mFunctionWrappersWrappers\u001b[39m\n",
      "\u001b[32m  ✓ \u001b[39m\u001b[90mStaticArraysCore\u001b[39m\n"
     ]
    },
    {
     "name": "stderr",
     "output_type": "stream",
     "text": [
      "\u001b[32m  ✓ \u001b[39m\u001b[90mRuntimeGeneratedFunctions\u001b[39m\n"
     ]
    },
    {
     "name": "stderr",
     "output_type": "stream",
     "text": [
      "\u001b[32m  ✓ \u001b[39m\u001b[90mTimerOutputs\u001b[39m\n",
      "\u001b[32m  ✓ \u001b[39m\u001b[90mTableTraits\u001b[39m\n"
     ]
    },
    {
     "name": "stderr",
     "output_type": "stream",
     "text": [
      "\u001b[32m  ✓ \u001b[39m\u001b[90mNaNMath\u001b[39m\n"
     ]
    },
    {
     "name": "stderr",
     "output_type": "stream",
     "text": [
      "\u001b[32m  ✓ \u001b[39m\u001b[90mInverseFunctions → InverseFunctionsDatesExt\u001b[39m\n"
     ]
    },
    {
     "name": "stderr",
     "output_type": "stream",
     "text": [
      "\u001b[32m  ✓ \u001b[39m\u001b[90mProgressMeter\u001b[39m\n"
     ]
    },
    {
     "name": "stderr",
     "output_type": "stream",
     "text": [
      "\u001b[32m  ✓ \u001b[39m\u001b[90mThreadingUtilities\u001b[39m\n"
     ]
    },
    {
     "name": "stderr",
     "output_type": "stream",
     "text": [
      "\u001b[32m  ✓ \u001b[39m\u001b[90mMLStyle\u001b[39m\n"
     ]
    },
    {
     "name": "stderr",
     "output_type": "stream",
     "text": [
      "\u001b[32m  ✓ \u001b[39m\u001b[90mCommonSubexpressions\u001b[39m\n"
     ]
    },
    {
     "name": "stderr",
     "output_type": "stream",
     "text": [
      "\u001b[32m  ✓ \u001b[39m\u001b[90mTruncatedStacktraces\u001b[39m\n"
     ]
    },
    {
     "name": "stderr",
     "output_type": "stream",
     "text": [
      "\u001b[32m  ✓ \u001b[39m\u001b[90mJLLWrappers\u001b[39m\n"
     ]
    },
    {
     "name": "stderr",
     "output_type": "stream",
     "text": [
      "\u001b[32m  ✓ \u001b[39m\u001b[90mSparseArrays\u001b[39m\n"
     ]
    },
    {
     "name": "stderr",
     "output_type": "stream",
     "text": [
      "\u001b[32m  ✓ \u001b[39m\u001b[90mPrecompileTools\u001b[39m\n"
     ]
    },
    {
     "name": "stderr",
     "output_type": "stream",
     "text": [
      "\u001b[32m  ✓ \u001b[39m\u001b[90mCompat → CompatLinearAlgebraExt\u001b[39m\n"
     ]
    },
    {
     "name": "stderr",
     "output_type": "stream",
     "text": [
      "\u001b[32m  ✓ \u001b[39m\u001b[90mParameters\u001b[39m\n"
     ]
    },
    {
     "name": "stderr",
     "output_type": "stream",
     "text": [
      "\u001b[32m  ✓ \u001b[39m\u001b[90mAdapt\u001b[39m\n"
     ]
    },
    {
     "name": "stderr",
     "output_type": "stream",
     "text": [
      "\u001b[32m  ✓ \u001b[39m\u001b[90mZipFile\u001b[39m\n"
     ]
    },
    {
     "name": "stderr",
     "output_type": "stream",
     "text": [
      "\u001b[32m  ✓ \u001b[39m\u001b[90mLogExpFunctions\u001b[39m\n"
     ]
    },
    {
     "name": "stderr",
     "output_type": "stream",
     "text": [
      "\u001b[32m  ✓ \u001b[39m\u001b[90mADTypes → ADTypesEnzymeCoreExt\u001b[39m\n"
     ]
    },
    {
     "name": "stderr",
     "output_type": "stream",
     "text": [
      "\u001b[32m  ✓ \u001b[39m\u001b[90mConstructionBase → ConstructionBaseLinearAlgebraExt\u001b[39m\n"
     ]
    },
    {
     "name": "stderr",
     "output_type": "stream",
     "text": [
      "\u001b[32m  ✓ \u001b[39m\u001b[90mDiffResults\u001b[39m\n"
     ]
    },
    {
     "name": "stderr",
     "output_type": "stream",
     "text": [
      "\u001b[32m  ✓ \u001b[39m\u001b[90mTables\u001b[39m\n"
     ]
    },
    {
     "name": "stderr",
     "output_type": "stream",
     "text": [
      "\u001b[32m  ✓ \u001b[39m\u001b[90mInverseFunctions → InverseFunctionsTestExt\u001b[39m\n",
      "\u001b[32m  ✓ \u001b[39m\u001b[90mCompositionsBase → CompositionsBaseInverseFunctionsExt\u001b[39m\n"
     ]
    },
    {
     "name": "stderr",
     "output_type": "stream",
     "text": [
      "\u001b[32m  ✓ \u001b[39m\u001b[90mIntelOpenMP_jll\u001b[39m\n"
     ]
    },
    {
     "name": "stderr",
     "output_type": "stream",
     "text": [
      "\u001b[32m  ✓ \u001b[39m\u001b[90moneTBB_jll\u001b[39m\n"
     ]
    },
    {
     "name": "stderr",
     "output_type": "stream",
     "text": [
      "\u001b[32m  ✓ \u001b[39m\u001b[90mLibiconv_jll\u001b[39m\n"
     ]
    },
    {
     "name": "stderr",
     "output_type": "stream",
     "text": [
      "\u001b[32m  ✓ \u001b[39m\u001b[90mOpenSpecFun_jll\u001b[39m\n"
     ]
    },
    {
     "name": "stderr",
     "output_type": "stream",
     "text": [
      "\u001b[32m  ✓ \u001b[39m\u001b[90mKLU\u001b[39m\n"
     ]
    },
    {
     "name": "stderr",
     "output_type": "stream",
     "text": [
      "\u001b[32m  ✓ \u001b[39m\u001b[90mStatistics\u001b[39m\n"
     ]
    },
    {
     "name": "stderr",
     "output_type": "stream",
     "text": [
      "\u001b[32m  ✓ \u001b[39m\u001b[90mFillArrays → FillArraysSparseArraysExt\u001b[39m\n"
     ]
    },
    {
     "name": "stderr",
     "output_type": "stream",
     "text": [
      "\u001b[32m  ✓ \u001b[39m\u001b[90mExpronicon\u001b[39m\n"
     ]
    },
    {
     "name": "stderr",
     "output_type": "stream",
     "text": [
      "\u001b[32m  ✓ \u001b[39m\u001b[90mRecipesBase\u001b[39m\n"
     ]
    },
    {
     "name": "stderr",
     "output_type": "stream",
     "text": [
      "\u001b[32m  ✓ \u001b[39m\u001b[90mStatic\u001b[39m\n"
     ]
    },
    {
     "name": "stderr",
     "output_type": "stream",
     "text": [
      "\u001b[32m  ✓ \u001b[39m\u001b[90mChainRulesCore\u001b[39m\n"
     ]
    },
    {
     "name": "stderr",
     "output_type": "stream",
     "text": [
      "\u001b[32m  ✓ \u001b[39m\u001b[90mKrylov\u001b[39m\n"
     ]
    },
    {
     "name": "stderr",
     "output_type": "stream",
     "text": [
      "\u001b[32m  ✓ \u001b[39m\u001b[90mDataStructures\u001b[39m\n"
     ]
    },
    {
     "name": "stderr",
     "output_type": "stream",
     "text": [
      "\u001b[32m  ✓ \u001b[39m\u001b[90mArrayInterface\u001b[39m\n"
     ]
    },
    {
     "name": "stderr",
     "output_type": "stream",
     "text": [
      "\u001b[32m  ✓ \u001b[39m\u001b[90mGPUArraysCore\u001b[39m\n"
     ]
    },
    {
     "name": "stderr",
     "output_type": "stream",
     "text": [
      "\u001b[32m  ✓ \u001b[39m\u001b[90mOffsetArrays → OffsetArraysAdaptExt\u001b[39m\n"
     ]
    },
    {
     "name": "stderr",
     "output_type": "stream",
     "text": [
      "\u001b[32m  ✓ \u001b[39m\u001b[90mEnzymeCore → AdaptExt\u001b[39m\n"
     ]
    },
    {
     "name": "stderr",
     "output_type": "stream",
     "text": [
      "\u001b[32m  ✓ \u001b[39m\u001b[90mLogExpFunctions → LogExpFunctionsInverseFunctionsExt\u001b[39m\n"
     ]
    },
    {
     "name": "stderr",
     "output_type": "stream",
     "text": [
      "\u001b[32m  ✓ \u001b[39m\u001b[90mSetfield\u001b[39m\n"
     ]
    },
    {
     "name": "stderr",
     "output_type": "stream",
     "text": [
      "\u001b[32m  ✓ \u001b[39m\u001b[90mAccessors\u001b[39m\n",
      "\u001b[32m  ✓ \u001b[39m\u001b[90mMKL_jll\u001b[39m\n"
     ]
    },
    {
     "name": "stderr",
     "output_type": "stream",
     "text": [
      "\u001b[32m  ✓ \u001b[39m\u001b[90mBitTwiddlingConvenienceFunctions\u001b[39m\n"
     ]
    },
    {
     "name": "stderr",
     "output_type": "stream",
     "text": [
      "\u001b[32m  ✓ \u001b[39m\u001b[90mFillArrays → FillArraysStatisticsExt\u001b[39m\n"
     ]
    },
    {
     "name": "stderr",
     "output_type": "stream",
     "text": [
      "\u001b[32m  ✓ \u001b[39m\u001b[90mXML2_jll\u001b[39m\n"
     ]
    },
    {
     "name": "stderr",
     "output_type": "stream",
     "text": [
      "\u001b[32m  ✓ \u001b[39m\u001b[90mChainRulesCore → ChainRulesCoreSparseArraysExt\u001b[39m\n",
      "\u001b[32m  ✓ \u001b[39m\u001b[90mCPUSummary\u001b[39m\n"
     ]
    },
    {
     "name": "stderr",
     "output_type": "stream",
     "text": [
      "\u001b[32m  ✓ \u001b[39m\u001b[90mADTypes → ADTypesChainRulesCoreExt\u001b[39m\n"
     ]
    },
    {
     "name": "stderr",
     "output_type": "stream",
     "text": [
      "\u001b[32m  ✓ \u001b[39m\u001b[90mArrayInterface → ArrayInterfaceStaticArraysCoreExt\u001b[39m\n"
     ]
    },
    {
     "name": "stderr",
     "output_type": "stream",
     "text": [
      "\u001b[32m  ✓ \u001b[39m\u001b[90mArrayInterface → ArrayInterfaceSparseArraysExt\u001b[39m\n"
     ]
    },
    {
     "name": "stderr",
     "output_type": "stream",
     "text": [
      "\u001b[32m  ✓ \u001b[39m\u001b[90mLogExpFunctions → LogExpFunctionsChainRulesCoreExt\u001b[39m\n",
      "\u001b[32m  ✓ \u001b[39m\u001b[90mArrayInterface → ArrayInterfaceGPUArraysCoreExt\u001b[39m\n"
     ]
    },
    {
     "name": "stderr",
     "output_type": "stream",
     "text": [
      "\u001b[32m  ✓ \u001b[39m\u001b[90mSparspak\u001b[39m\n",
      "\u001b[32m  ✓ \u001b[39m\u001b[90mHostCPUFeatures\u001b[39m\n"
     ]
    },
    {
     "name": "stderr",
     "output_type": "stream",
     "text": [
      "\u001b[32m  ✓ \u001b[39m\u001b[90mAccessors → AccessorsDatesExt\u001b[39m\n"
     ]
    },
    {
     "name": "stderr",
     "output_type": "stream",
     "text": [
      "\u001b[32m  ✓ \u001b[39m\u001b[90mPolyesterWeave\u001b[39m\n"
     ]
    },
    {
     "name": "stderr",
     "output_type": "stream",
     "text": [
      "\u001b[32m  ✓ \u001b[39m\u001b[90mEzXML\u001b[39m\n"
     ]
    },
    {
     "name": "stderr",
     "output_type": "stream",
     "text": [
      "\u001b[32m  ✓ \u001b[39m\u001b[90mDifferentiationInterface\u001b[39m\n"
     ]
    },
    {
     "name": "stderr",
     "output_type": "stream",
     "text": [
      "\u001b[32m  ✓ \u001b[39m\u001b[90mSparseMatrixColorings\u001b[39m\n"
     ]
    },
    {
     "name": "stderr",
     "output_type": "stream",
     "text": [
      "\u001b[32m  ✓ \u001b[39m\u001b[90mSpecialFunctions\u001b[39m\n"
     ]
    },
    {
     "name": "stderr",
     "output_type": "stream",
     "text": [
      "\u001b[32m  ✓ \u001b[39m\u001b[90mSparseConnectivityTracer\u001b[39m\n"
     ]
    },
    {
     "name": "stderr",
     "output_type": "stream",
     "text": [
      "\u001b[32m  ✓ \u001b[39m\u001b[90mSciMLStructures\u001b[39m\n"
     ]
    },
    {
     "name": "stderr",
     "output_type": "stream",
     "text": [
      "\u001b[32m  ✓ \u001b[39m\u001b[90mMaybeInplace\u001b[39m\n"
     ]
    },
    {
     "name": "stderr",
     "output_type": "stream",
     "text": [
      "\u001b[32m  ✓ \u001b[39m\u001b[90mStaticArrayInterface\u001b[39m\n"
     ]
    },
    {
     "name": "stderr",
     "output_type": "stream",
     "text": [
      "\u001b[32m  ✓ \u001b[39m\u001b[90mFiniteDiff\u001b[39m\n"
     ]
    },
    {
     "name": "stderr",
     "output_type": "stream",
     "text": [
      "\u001b[32m  ✓ \u001b[39m\u001b[90mAccessors → AccessorsTestExt\u001b[39m\n"
     ]
    },
    {
     "name": "stderr",
     "output_type": "stream",
     "text": [
      "\u001b[32m  ✓ \u001b[39m\u001b[90mDifferentiationInterface → DifferentiationInterfaceChainRulesCoreExt\u001b[39m\n"
     ]
    },
    {
     "name": "stderr",
     "output_type": "stream",
     "text": [
      "\u001b[32m  ✓ \u001b[39m\u001b[90mDifferentiationInterface → DifferentiationInterfaceSparseArraysExt\u001b[39m\n"
     ]
    },
    {
     "name": "stderr",
     "output_type": "stream",
     "text": [
      "\u001b[32m  ✓ \u001b[39m\u001b[90mSpecialFunctions → SpecialFunctionsChainRulesCoreExt\u001b[39m\n"
     ]
    },
    {
     "name": "stderr",
     "output_type": "stream",
     "text": [
      "\u001b[32m  ✓ \u001b[39m\u001b[90mSparseConnectivityTracer → SparseConnectivityTracerNaNMathExt\u001b[39m\n"
     ]
    },
    {
     "name": "stderr",
     "output_type": "stream",
     "text": [
      "\u001b[32m  ✓ \u001b[39m\u001b[90mMaybeInplace → MaybeInplaceSparseArraysExt\u001b[39m\n"
     ]
    },
    {
     "name": "stderr",
     "output_type": "stream",
     "text": [
      "\u001b[32m  ✓ \u001b[39m\u001b[90mSparseConnectivityTracer → SparseConnectivityTracerLogExpFunctionsExt\u001b[39m\n"
     ]
    },
    {
     "name": "stderr",
     "output_type": "stream",
     "text": [
      "\u001b[32m  ✓ \u001b[39m\u001b[90mStaticArrayInterface → StaticArrayInterfaceOffsetArraysExt\u001b[39m\n"
     ]
    },
    {
     "name": "stderr",
     "output_type": "stream",
     "text": [
      "\u001b[32m  ✓ \u001b[39m\u001b[90mArrayLayouts\u001b[39m\n",
      "\u001b[32m  ✓ \u001b[39m\u001b[90mFiniteDiff → FiniteDiffSparseArraysExt\u001b[39m\n"
     ]
    },
    {
     "name": "stderr",
     "output_type": "stream",
     "text": [
      "\u001b[32m  ✓ \u001b[39m\u001b[90mDifferentiationInterface → DifferentiationInterfaceFiniteDiffExt\u001b[39m\n"
     ]
    },
    {
     "name": "stderr",
     "output_type": "stream",
     "text": [
      "\u001b[32m  ✓ \u001b[39m\u001b[90mDifferentiationInterface → DifferentiationInterfaceSparseMatrixColoringsExt\u001b[39m\n"
     ]
    },
    {
     "name": "stderr",
     "output_type": "stream",
     "text": [
      "\u001b[32m  ✓ \u001b[39m\u001b[90mSymbolicIndexingInterface\u001b[39m\n"
     ]
    },
    {
     "name": "stderr",
     "output_type": "stream",
     "text": [
      "\u001b[32m  ✓ \u001b[39m\u001b[90mSciMLOperators\u001b[39m\n"
     ]
    },
    {
     "name": "stderr",
     "output_type": "stream",
     "text": [
      "\u001b[32m  ✓ \u001b[39m\u001b[90mDiffRules\u001b[39m\n"
     ]
    },
    {
     "name": "stderr",
     "output_type": "stream",
     "text": [
      "\u001b[32m  ✓ \u001b[39m\u001b[90mCloseOpenIntervals\u001b[39m\n"
     ]
    },
    {
     "name": "stderr",
     "output_type": "stream",
     "text": [
      "\u001b[32m  ✓ \u001b[39m\u001b[90mLayoutPointers\u001b[39m\n"
     ]
    },
    {
     "name": "stderr",
     "output_type": "stream",
     "text": [
      "\u001b[32m  ✓ \u001b[39m\u001b[90mSparseConnectivityTracer → SparseConnectivityTracerSpecialFunctionsExt\u001b[39m\n"
     ]
    },
    {
     "name": "stderr",
     "output_type": "stream",
     "text": [
      "\u001b[32m  ✓ \u001b[39m\u001b[90mArrayLayouts → ArrayLayoutsSparseArraysExt\u001b[39m\n"
     ]
    },
    {
     "name": "stderr",
     "output_type": "stream",
     "text": [
      "\u001b[32m  ✓ \u001b[39m\u001b[90mSciMLOperators → SciMLOperatorsStaticArraysCoreExt\u001b[39m\n"
     ]
    },
    {
     "name": "stderr",
     "output_type": "stream",
     "text": [
      "\u001b[32m  ✓ \u001b[39m\u001b[90mSciMLOperators → SciMLOperatorsSparseArraysExt\u001b[39m\n"
     ]
    },
    {
     "name": "stderr",
     "output_type": "stream",
     "text": [
      "\u001b[32m  ✓ \u001b[39m\u001b[90mRecursiveArrayTools\u001b[39m\n"
     ]
    },
    {
     "name": "stderr",
     "output_type": "stream",
     "text": [
      "\u001b[32m  ✓ \u001b[39m\u001b[90mStrideArraysCore\u001b[39m\n"
     ]
    },
    {
     "name": "stderr",
     "output_type": "stream",
     "text": [
      "\u001b[32m  ✓ \u001b[39m\u001b[90mForwardDiff\u001b[39m\n"
     ]
    },
    {
     "name": "stderr",
     "output_type": "stream",
     "text": [
      "\u001b[32m  ✓ \u001b[39m\u001b[90mRecursiveArrayTools → RecursiveArrayToolsSparseArraysExt\u001b[39m\n"
     ]
    },
    {
     "name": "stderr",
     "output_type": "stream",
     "text": [
      "\u001b[32m  ✓ \u001b[39m\u001b[90mLazyArrays\u001b[39m\n"
     ]
    },
    {
     "name": "stderr",
     "output_type": "stream",
     "text": [
      "\u001b[32m  ✓ \u001b[39m\u001b[90mPolyester\u001b[39m\n"
     ]
    },
    {
     "name": "stderr",
     "output_type": "stream",
     "text": [
      "\u001b[32m  ✓ \u001b[39m\u001b[90mPreallocationTools\u001b[39m\n"
     ]
    },
    {
     "name": "stderr",
     "output_type": "stream",
     "text": [
      "\u001b[32m  ✓ \u001b[39m\u001b[90mNLSolversBase\u001b[39m\n"
     ]
    },
    {
     "name": "stderr",
     "output_type": "stream",
     "text": [
      "\u001b[32m  ✓ \u001b[39m\u001b[90mVectorizationBase\u001b[39m\n"
     ]
    },
    {
     "name": "stderr",
     "output_type": "stream",
     "text": [
      "\u001b[32m  ✓ \u001b[39m\u001b[90mDifferentiationInterface → DifferentiationInterfaceForwardDiffExt\u001b[39m\n"
     ]
    },
    {
     "name": "stderr",
     "output_type": "stream",
     "text": [
      "\u001b[32m  ✓ \u001b[39m\u001b[90mFastBroadcast\u001b[39m\n"
     ]
    },
    {
     "name": "stderr",
     "output_type": "stream",
     "text": [
      "\u001b[32m  ✓ \u001b[39m\u001b[90mRecursiveArrayTools → RecursiveArrayToolsForwardDiffExt\u001b[39m\n"
     ]
    },
    {
     "name": "stderr",
     "output_type": "stream",
     "text": [
      "\u001b[32m  ✓ \u001b[39m\u001b[90mSLEEFPirates\u001b[39m\n"
     ]
    },
    {
     "name": "stderr",
     "output_type": "stream",
     "text": [
      "\u001b[32m  ✓ \u001b[39m\u001b[90mRecursiveArrayTools → RecursiveArrayToolsFastBroadcastExt\u001b[39m\n",
      "\u001b[32m  ✓ \u001b[39m\u001b[90mLineSearches\u001b[39m\n"
     ]
    },
    {
     "name": "stderr",
     "output_type": "stream",
     "text": [
      "\u001b[32m  ✓ \u001b[39m\u001b[90mSciMLBase\u001b[39m\n"
     ]
    },
    {
     "name": "stderr",
     "output_type": "stream",
     "text": [
      "\u001b[32m  ✓ \u001b[39m\u001b[90mSciMLBase → SciMLBaseChainRulesCoreExt\u001b[39m\n"
     ]
    },
    {
     "name": "stderr",
     "output_type": "stream",
     "text": [
      "\u001b[32m  ✓ \u001b[39m\u001b[90mLoopVectorization\u001b[39m\n"
     ]
    },
    {
     "name": "stderr",
     "output_type": "stream",
     "text": [
      "\u001b[32m  ✓ \u001b[39m\u001b[90mLoopVectorization → SpecialFunctionsExt\u001b[39m\n"
     ]
    },
    {
     "name": "stderr",
     "output_type": "stream",
     "text": [
      "\u001b[32m  ✓ \u001b[39m\u001b[90mSciMLJacobianOperators\u001b[39m\n"
     ]
    },
    {
     "name": "stderr",
     "output_type": "stream",
     "text": [
      "\u001b[32m  ✓ \u001b[39m\u001b[90mLoopVectorization → ForwardDiffExt\u001b[39m\n"
     ]
    },
    {
     "name": "stderr",
     "output_type": "stream",
     "text": [
      "\u001b[32m  ✓ \u001b[39m\u001b[90mDiffEqBase\u001b[39m\n"
     ]
    },
    {
     "name": "stderr",
     "output_type": "stream",
     "text": [
      "\u001b[32m  ✓ \u001b[39m\u001b[90mLineSearch\u001b[39m\n"
     ]
    },
    {
     "name": "stderr",
     "output_type": "stream",
     "text": [
      "\u001b[32m  ✓ \u001b[39m\u001b[90mTriangularSolve\u001b[39m\n"
     ]
    },
    {
     "name": "stderr",
     "output_type": "stream",
     "text": [
      "\u001b[32m  ✓ \u001b[39m\u001b[90mDiffEqBase → DiffEqBaseSparseArraysExt\u001b[39m\n"
     ]
    },
    {
     "name": "stderr",
     "output_type": "stream",
     "text": [
      "\u001b[32m  ✓ \u001b[39m\u001b[90mLineSearch → LineSearchLineSearchesExt\u001b[39m\n"
     ]
    },
    {
     "name": "stderr",
     "output_type": "stream",
     "text": [
      "\u001b[32m  ✓ \u001b[39m\u001b[90mDiffEqBase → DiffEqBaseChainRulesCoreExt\u001b[39m\n"
     ]
    },
    {
     "name": "stderr",
     "output_type": "stream",
     "text": [
      "\u001b[32m  ✓ \u001b[39m\u001b[90mRecursiveFactorization\u001b[39m\n"
     ]
    },
    {
     "name": "stderr",
     "output_type": "stream",
     "text": [
      "\u001b[32m  ✓ \u001b[39m\u001b[90mSimpleNonlinearSolve\u001b[39m\n"
     ]
    },
    {
     "name": "stderr",
     "output_type": "stream",
     "text": [
      "\u001b[32m  ✓ \u001b[39m\u001b[90mSimpleNonlinearSolve → SimpleNonlinearSolveChainRulesCoreExt\u001b[39m\n"
     ]
    },
    {
     "name": "stderr",
     "output_type": "stream",
     "text": [
      "\u001b[32m  ✓ \u001b[39m\u001b[90mLinearSolve\u001b[39m\n"
     ]
    },
    {
     "name": "stderr",
     "output_type": "stream",
     "text": [
      "\u001b[32m  ✓ \u001b[39m\u001b[90mLinearSolve → LinearSolveRecursiveArrayToolsExt\u001b[39m\n"
     ]
    },
    {
     "name": "stderr",
     "output_type": "stream",
     "text": [
      "\u001b[32m  ✓ \u001b[39m\u001b[90mLinearSolve → LinearSolveEnzymeExt\u001b[39m\n"
     ]
    },
    {
     "name": "stderr",
     "output_type": "stream",
     "text": [
      "\u001b[32m  ✓ \u001b[39m\u001b[90mNonlinearSolve\u001b[39m\n"
     ]
    },
    {
     "name": "stderr",
     "output_type": "stream",
     "text": [
      "\u001b[32m  ✓ \u001b[39m\u001b[90mDiffEqCallbacks\u001b[39m\n"
     ]
    },
    {
     "name": "stderr",
     "output_type": "stream",
     "text": [
      "\u001b[32m  ✓ \u001b[39mFMIBase\n"
     ]
    },
    {
     "name": "stderr",
     "output_type": "stream",
     "text": [
      "\u001b[32m  ✓ \u001b[39m\u001b[90mFMIBase → ForwardDiffExt\u001b[39m\n"
     ]
    },
    {
     "name": "stderr",
     "output_type": "stream",
     "text": [
      "\u001b[32m  ✓ \u001b[39mFMIExport\n"
     ]
    },
    {
     "name": "stderr",
     "output_type": "stream",
     "text": [
      "\u001b[32m  ✓ \u001b[39mBouncingBall"
     ]
    },
    {
     "name": "stderr",
     "output_type": "stream",
     "text": [
      "\n"
     ]
    },
    {
     "name": "stderr",
     "output_type": "stream",
     "text": [
      "  172 dependencies successfully precompiled in 176 seconds\n",
      "\u001b[36m\u001b[1m[ \u001b[22m\u001b[39m\u001b[36m\u001b[1mInfo: \u001b[22m\u001b[39mPackageCompiler: Executing C:\\Users\\RUNNER~1\\AppData\\Local\\Temp\\fmibuildjl_EbCMRV\\merged_BouncingBall\\src\\BouncingBall.jl => C:\\Users\\RUNNER~1\\AppData\\Local\\Temp\\jl_packagecompiler_O56j9f\\jl_77E4.tmp\n"
     ]
    },
    {
     "name": "stderr",
     "output_type": "stream",
     "text": [
      "\u001b[36m\u001b[1m[ \u001b[22m\u001b[39m\u001b[36m\u001b[1mInfo: \u001b[22m\u001b[39mPackageCompiler: Done\n",
      "- PackageCompiler: compiling incremental system image\n"
     ]
    },
    {
     "name": "stderr",
     "output_type": "stream",
     "text": [
      "\u001b[36m\u001b[1m[ \u001b[22m\u001b[39m\u001b[36m\u001b[1mInfo: \u001b[22m\u001b[39m[Build FMU] ... compiling FMU done.\n"
     ]
    },
    {
     "name": "stderr",
     "output_type": "stream",
     "text": [
      "\u001b[36m\u001b[1m[ \u001b[22m\u001b[39m\u001b[36m\u001b[1mInfo: \u001b[22m\u001b[39m[Build FMU] Patching libjulia.dll @ `C:\\Users\\RUNNER~1\\AppData\\Local\\Temp\\fmibuildjl_EbCMRV\\BouncingBall\\binaries\\win64`...\n"
     ]
    },
    {
     "name": "stderr",
     "output_type": "stream",
     "text": [
      "\u001b[36m\u001b[1m┌ \u001b[22m\u001b[39m\u001b[36m\u001b[1mInfo: \u001b[22m\u001b[39mFound embedded libpath\n",
      "\u001b[36m\u001b[1m│ \u001b[22m\u001b[39m  libpath =\n",
      "\u001b[36m\u001b[1m│ \u001b[22m\u001b[39m   6-element Vector{SubString{String}}:\n",
      "\u001b[36m\u001b[1m│ \u001b[22m\u001b[39m    \"../bin/libgcc_s_seh-1.dll\"\n",
      "\u001b[36m\u001b[1m│ \u001b[22m\u001b[39m    \"../bin/libopenlibm.dll\"\n",
      "\u001b[36m\u001b[1m│ \u001b[22m\u001b[39m    \"@\"\n",
      "\u001b[36m\u001b[1m│ \u001b[22m\u001b[39m    \"@../bin/libjulia-internal.dll\"\n",
      "\u001b[36m\u001b[1m│ \u001b[22m\u001b[39m    \"@../bin/libjulia-codegen.dll\"\n",
      "\u001b[36m\u001b[1m│ \u001b[22m\u001b[39m    \"\"\n",
      "\u001b[36m\u001b[1m└ \u001b[22m\u001b[39m  libpath_offset = 14849\n"
     ]
    },
    {
     "name": "stdout",
     "output_type": "stream",
     "text": [
      "\tmodelDescription.xml\n"
     ]
    },
    {
     "name": "stderr",
     "output_type": "stream",
     "text": [
      "\u001b[36m\u001b[1m┌ \u001b[22m\u001b[39m\u001b[36m\u001b[1mInfo: \u001b[22m\u001b[39mFiltered libpath\n",
      "\u001b[36m\u001b[1m│ \u001b[22m\u001b[39m  libpath =\n",
      "\u001b[36m\u001b[1m│ \u001b[22m\u001b[39m   6-element Vector{AbstractString}:\n",
      "\u001b[36m\u001b[1m│ \u001b[22m\u001b[39m    \"libgcc_s_seh-1.dll\"\n",
      "\u001b[36m\u001b[1m│ \u001b[22m\u001b[39m    \"libopenlibm.dll\"\n",
      "\u001b[36m\u001b[1m│ \u001b[22m\u001b[39m    \"@\"\n",
      "\u001b[36m\u001b[1m│ \u001b[22m\u001b[39m    \"@libjulia-internal.dll\"\n",
      "\u001b[36m\u001b[1m│ \u001b[22m\u001b[39m    \"@libjulia-codegen.dll\"\n",
      "\u001b[36m\u001b[1m└ \u001b[22m\u001b[39m    \"\"\n",
      "\u001b[36m\u001b[1m[ \u001b[22m\u001b[39m\u001b[36m\u001b[1mInfo: \u001b[22m\u001b[39m[Build FMU] ... patching libjulia.dll done.\n",
      "\u001b[36m\u001b[1m[ \u001b[22m\u001b[39m\u001b[36m\u001b[1mInfo: \u001b[22m\u001b[39m[Build FMU] Building model description ...\n",
      "\u001b[36m\u001b[1m[ \u001b[22m\u001b[39m\u001b[36m\u001b[1mInfo: \u001b[22m\u001b[39m[Build FMU] ... building model description done.\n",
      "\u001b[36m\u001b[1m[ \u001b[22m\u001b[39m\u001b[36m\u001b[1mInfo: \u001b[22m\u001b[39m[Build FMU] Zipping FMU ...\n"
     ]
    },
    {
     "name": "stdout",
     "output_type": "stream",
     "text": [
      "\tbinaries/include/FMU2_init.h\n",
      "\tbinaries/include/julia_init.h\n",
      "\tbinaries/share/julia/LocalPreferences.toml\n",
      "\tbinaries/share/julia/Project.toml\n",
      "\tbinaries/share/julia/cert.pem\n",
      "\tbinaries/share/julia/artifacts/07d4e2a4c926ce5a99f7ff402617dc9caa2187a0/bin/libimalloc.dll\n",
      "\tbinaries/share/julia/artifacts/07d4e2a4c926ce5a99f7ff402617dc9caa2187a0/bin/mkl_avx2.2.dll\n"
     ]
    },
    {
     "name": "stdout",
     "output_type": "stream",
     "text": [
      "\tbinaries/share/julia/artifacts/07d4e2a4c926ce5a99f7ff402617dc9caa2187a0/bin/mkl_avx512.2.dll\n"
     ]
    },
    {
     "name": "stdout",
     "output_type": "stream",
     "text": [
      "\tbinaries/share/julia/artifacts/07d4e2a4c926ce5a99f7ff402617dc9caa2187a0/bin/mkl_blacs_ilp64.2.dll\n",
      "\tbinaries/share/julia/artifacts/07d4e2a4c926ce5a99f7ff402617dc9caa2187a0/bin/mkl_blacs_intelmpi_ilp64.2.dll\n",
      "\tbinaries/share/julia/artifacts/07d4e2a4c926ce5a99f7ff402617dc9caa2187a0/bin/mkl_blacs_intelmpi_lp64.2.dll\n",
      "\tbinaries/share/julia/artifacts/07d4e2a4c926ce5a99f7ff402617dc9caa2187a0/bin/mkl_blacs_lp64.2.dll\n",
      "\tbinaries/share/julia/artifacts/07d4e2a4c926ce5a99f7ff402617dc9caa2187a0/bin/mkl_blacs_msmpi_ilp64.2.dll\n",
      "\tbinaries/share/julia/artifacts/07d4e2a4c926ce5a99f7ff402617dc9caa2187a0/bin/mkl_blacs_msmpi_lp64.2.dll\n",
      "\tbinaries/share/julia/artifacts/07d4e2a4c926ce5a99f7ff402617dc9caa2187a0/bin/mkl_cdft_core.2.dll\n",
      "\tbinaries/share/julia/artifacts/07d4e2a4c926ce5a99f7ff402617dc9caa2187a0/bin/mkl_core.2.dll\n"
     ]
    },
    {
     "name": "stdout",
     "output_type": "stream",
     "text": [
      "\tbinaries/share/julia/artifacts/07d4e2a4c926ce5a99f7ff402617dc9caa2187a0/bin/mkl_def.2.dll\n",
      "\tbinaries/share/julia/artifacts/07d4e2a4c926ce5a99f7ff402617dc9caa2187a0/bin/mkl_intel_thread.2.dll\n"
     ]
    },
    {
     "name": "stdout",
     "output_type": "stream",
     "text": [
      "\tbinaries/share/julia/artifacts/07d4e2a4c926ce5a99f7ff402617dc9caa2187a0/bin/mkl_mc3.2.dll\n"
     ]
    },
    {
     "name": "stdout",
     "output_type": "stream",
     "text": [
      "\tbinaries/share/julia/artifacts/07d4e2a4c926ce5a99f7ff402617dc9caa2187a0/bin/mkl_pgi_thread.2.dll\n"
     ]
    },
    {
     "name": "stdout",
     "output_type": "stream",
     "text": [
      "\tbinaries/share/julia/artifacts/07d4e2a4c926ce5a99f7ff402617dc9caa2187a0/bin/mkl_rt.2.dll\n",
      "\tbinaries/share/julia/artifacts/07d4e2a4c926ce5a99f7ff402617dc9caa2187a0/bin/mkl_scalapack_ilp64.2.dll\n",
      "\tbinaries/share/julia/artifacts/07d4e2a4c926ce5a99f7ff402617dc9caa2187a0/bin/mkl_scalapack_lp64.2.dll\n",
      "\tbinaries/share/julia/artifacts/07d4e2a4c926ce5a99f7ff402617dc9caa2187a0/bin/mkl_sequential.2.dll\n",
      "\tbinaries/share/julia/artifacts/07d4e2a4c926ce5a99f7ff402617dc9caa2187a0/bin/mkl_tbb_thread.2.dll\n"
     ]
    },
    {
     "name": "stdout",
     "output_type": "stream",
     "text": [
      "\tbinaries/share/julia/artifacts/07d4e2a4c926ce5a99f7ff402617dc9caa2187a0/bin/mkl_vml_avx2.2.dll\n",
      "\tbinaries/share/julia/artifacts/07d4e2a4c926ce5a99f7ff402617dc9caa2187a0/bin/mkl_vml_avx512.2.dll\n",
      "\tbinaries/share/julia/artifacts/07d4e2a4c926ce5a99f7ff402617dc9caa2187a0/bin/mkl_vml_cmpt.2.dll\n",
      "\tbinaries/share/julia/artifacts/07d4e2a4c926ce5a99f7ff402617dc9caa2187a0/bin/mkl_vml_def.2.dll\n",
      "\tbinaries/share/julia/artifacts/07d4e2a4c926ce5a99f7ff402617dc9caa2187a0/bin/mkl_vml_mc3.2.dll\n",
      "\tbinaries/share/julia/artifacts/07d4e2a4c926ce5a99f7ff402617dc9caa2187a0/share/licenses/MKL/license.txt\n",
      "\tbinaries/share/julia/artifacts/07d4e2a4c926ce5a99f7ff402617dc9caa2187a0/share/licenses/MKL/tpp.txt\n",
      "\tbinaries/share/julia/artifacts/3946a6b7e5b0c7955b4a4e68280c32b229774d34/bin/libiomp5md.dll\n",
      "\tbinaries/share/julia/artifacts/3946a6b7e5b0c7955b4a4e68280c32b229774d34/bin/libiomp5md_db.dll\n",
      "\tbinaries/share/julia/artifacts/3946a6b7e5b0c7955b4a4e68280c32b229774d34/bin/libiompstubs5md.dll\n",
      "\tbinaries/share/julia/artifacts/3946a6b7e5b0c7955b4a4e68280c32b229774d34/bin/omptarget.dll\n",
      "\tbinaries/share/julia/artifacts/3946a6b7e5b0c7955b4a4e68280c32b229774d34/bin/omptarget.rtl.level0.dll\n",
      "\tbinaries/share/julia/artifacts/3946a6b7e5b0c7955b4a4e68280c32b229774d34/bin/omptarget.rtl.opencl.dll\n",
      "\tbinaries/share/julia/artifacts/3946a6b7e5b0c7955b4a4e68280c32b229774d34/bin/omptarget.rtl.unified_runtime.dll\n",
      "\tbinaries/share/julia/artifacts/3946a6b7e5b0c7955b4a4e68280c32b229774d34/bin/omptarget.sycl.wrap.dll\n",
      "\tbinaries/share/julia/artifacts/3946a6b7e5b0c7955b4a4e68280c32b229774d34/lib/libiomp5md.lib\n",
      "\tbinaries/share/julia/artifacts/3946a6b7e5b0c7955b4a4e68280c32b229774d34/lib/libiompstubs5md.lib\n",
      "\tbinaries/share/julia/artifacts/3946a6b7e5b0c7955b4a4e68280c32b229774d34/share/licenses/IntelOpenMP/LICENSE.txt\n",
      "\tbinaries/share/julia/artifacts/3946a6b7e5b0c7955b4a4e68280c32b229774d34/share/licenses/IntelOpenMP/third-party-programs.txt\n",
      "\tbinaries/share/julia/artifacts/3e683ec5ca945a5aca74c49e8cccdf37c19b84a3/bin/libopenspecfun.dll\n",
      "\tbinaries/share/julia/artifacts/3e683ec5ca945a5aca74c49e8cccdf37c19b84a3/include/Faddeeva.h\n",
      "\tbinaries/share/julia/artifacts/3e683ec5ca945a5aca74c49e8cccdf37c19b84a3/lib/libopenspecfun.a\n",
      "\tbinaries/share/julia/artifacts/3e683ec5ca945a5aca74c49e8cccdf37c19b84a3/logs/OpenSpecFun/OpenSpecFun.log.gz\n",
      "\tbinaries/share/julia/artifacts/3e683ec5ca945a5aca74c49e8cccdf37c19b84a3/share/licenses/OpenSpecFun/LICENSE.md\n",
      "\tbinaries/share/julia/artifacts/55b1a3d509033b500e2c33e984a35f8ed481879a/bin/libxml2-2.dll\n",
      "\tbinaries/share/julia/artifacts/55b1a3d509033b500e2c33e984a35f8ed481879a/bin/xml2-config\n",
      "\tbinaries/share/julia/artifacts/55b1a3d509033b500e2c33e984a35f8ed481879a/bin/xmlcatalog.exe\n",
      "\tbinaries/share/julia/artifacts/55b1a3d509033b500e2c33e984a35f8ed481879a/bin/xmllint.exe\n",
      "\tbinaries/share/julia/artifacts/55b1a3d509033b500e2c33e984a35f8ed481879a/include/libxml2/libxml/HTMLparser.h\n",
      "\tbinaries/share/julia/artifacts/55b1a3d509033b500e2c33e984a35f8ed481879a/include/libxml2/libxml/HTMLtree.h\n",
      "\tbinaries/share/julia/artifacts/55b1a3d509033b500e2c33e984a35f8ed481879a/include/libxml2/libxml/SAX.h\n",
      "\tbinaries/share/julia/artifacts/55b1a3d509033b500e2c33e984a35f8ed481879a/include/libxml2/libxml/SAX2.h\n",
      "\tbinaries/share/julia/artifacts/55b1a3d509033b500e2c33e984a35f8ed481879a/include/libxml2/libxml/c14n.h\n",
      "\tbinaries/share/julia/artifacts/55b1a3d509033b500e2c33e984a35f8ed481879a/include/libxml2/libxml/catalog.h\n",
      "\tbinaries/share/julia/artifacts/55b1a3d509033b500e2c33e984a35f8ed481879a/include/libxml2/libxml/chvalid.h\n",
      "\tbinaries/share/julia/artifacts/55b1a3d509033b500e2c33e984a35f8ed481879a/include/libxml2/libxml/debugXML.h\n",
      "\tbinaries/share/julia/artifacts/55b1a3d509033b500e2c33e984a35f8ed481879a/include/libxml2/libxml/dict.h\n",
      "\tbinaries/share/julia/artifacts/55b1a3d509033b500e2c33e984a35f8ed481879a/include/libxml2/libxml/encoding.h\n",
      "\tbinaries/share/julia/artifacts/55b1a3d509033b500e2c33e984a35f8ed481879a/include/libxml2/libxml/entities.h\n",
      "\tbinaries/share/julia/artifacts/55b1a3d509033b500e2c33e984a35f8ed481879a/include/libxml2/libxml/globals.h\n",
      "\tbinaries/share/julia/artifacts/55b1a3d509033b500e2c33e984a35f8ed481879a/include/libxml2/libxml/hash.h\n",
      "\tbinaries/share/julia/artifacts/55b1a3d509033b500e2c33e984a35f8ed481879a/include/libxml2/libxml/list.h\n",
      "\tbinaries/share/julia/artifacts/55b1a3d509033b500e2c33e984a35f8ed481879a/include/libxml2/libxml/nanoftp.h\n",
      "\tbinaries/share/julia/artifacts/55b1a3d509033b500e2c33e984a35f8ed481879a/include/libxml2/libxml/nanohttp.h\n",
      "\tbinaries/share/julia/artifacts/55b1a3d509033b500e2c33e984a35f8ed481879a/include/libxml2/libxml/parser.h\n",
      "\tbinaries/share/julia/artifacts/55b1a3d509033b500e2c33e984a35f8ed481879a/include/libxml2/libxml/parserInternals.h\n",
      "\tbinaries/share/julia/artifacts/55b1a3d509033b500e2c33e984a35f8ed481879a/include/libxml2/libxml/pattern.h\n",
      "\tbinaries/share/julia/artifacts/55b1a3d509033b500e2c33e984a35f8ed481879a/include/libxml2/libxml/relaxng.h\n",
      "\tbinaries/share/julia/artifacts/55b1a3d509033b500e2c33e984a35f8ed481879a/include/libxml2/libxml/schemasInternals.h\n",
      "\tbinaries/share/julia/artifacts/55b1a3d509033b500e2c33e984a35f8ed481879a/include/libxml2/libxml/schematron.h\n",
      "\tbinaries/share/julia/artifacts/55b1a3d509033b500e2c33e984a35f8ed481879a/include/libxml2/libxml/threads.h\n",
      "\tbinaries/share/julia/artifacts/55b1a3d509033b500e2c33e984a35f8ed481879a/include/libxml2/libxml/tree.h\n",
      "\tbinaries/share/julia/artifacts/55b1a3d509033b500e2c33e984a35f8ed481879a/include/libxml2/libxml/uri.h\n",
      "\tbinaries/share/julia/artifacts/55b1a3d509033b500e2c33e984a35f8ed481879a/include/libxml2/libxml/valid.h\n",
      "\tbinaries/share/julia/artifacts/55b1a3d509033b500e2c33e984a35f8ed481879a/include/libxml2/libxml/xinclude.h\n",
      "\tbinaries/share/julia/artifacts/55b1a3d509033b500e2c33e984a35f8ed481879a/include/libxml2/libxml/xlink.h\n",
      "\tbinaries/share/julia/artifacts/55b1a3d509033b500e2c33e984a35f8ed481879a/include/libxml2/libxml/xmlIO.h\n",
      "\tbinaries/share/julia/artifacts/55b1a3d509033b500e2c33e984a35f8ed481879a/include/libxml2/libxml/xmlautomata.h\n",
      "\tbinaries/share/julia/artifacts/55b1a3d509033b500e2c33e984a35f8ed481879a/include/libxml2/libxml/xmlerror.h\n",
      "\tbinaries/share/julia/artifacts/55b1a3d509033b500e2c33e984a35f8ed481879a/include/libxml2/libxml/xmlexports.h\n",
      "\tbinaries/share/julia/artifacts/55b1a3d509033b500e2c33e984a35f8ed481879a/include/libxml2/libxml/xmlmemory.h\n",
      "\tbinaries/share/julia/artifacts/55b1a3d509033b500e2c33e984a35f8ed481879a/include/libxml2/libxml/xmlmodule.h\n",
      "\tbinaries/share/julia/artifacts/55b1a3d509033b500e2c33e984a35f8ed481879a/include/libxml2/libxml/xmlreader.h\n",
      "\tbinaries/share/julia/artifacts/55b1a3d509033b500e2c33e984a35f8ed481879a/include/libxml2/libxml/xmlregexp.h\n",
      "\tbinaries/share/julia/artifacts/55b1a3d509033b500e2c33e984a35f8ed481879a/include/libxml2/libxml/xmlsave.h\n",
      "\tbinaries/share/julia/artifacts/55b1a3d509033b500e2c33e984a35f8ed481879a/include/libxml2/libxml/xmlschemas.h\n",
      "\tbinaries/share/julia/artifacts/55b1a3d509033b500e2c33e984a35f8ed481879a/include/libxml2/libxml/xmlschemastypes.h\n",
      "\tbinaries/share/julia/artifacts/55b1a3d509033b500e2c33e984a35f8ed481879a/include/libxml2/libxml/xmlstring.h\n",
      "\tbinaries/share/julia/artifacts/55b1a3d509033b500e2c33e984a35f8ed481879a/include/libxml2/libxml/xmlunicode.h\n",
      "\tbinaries/share/julia/artifacts/55b1a3d509033b500e2c33e984a35f8ed481879a/include/libxml2/libxml/xmlversion.h\n",
      "\tbinaries/share/julia/artifacts/55b1a3d509033b500e2c33e984a35f8ed481879a/include/libxml2/libxml/xmlwriter.h\n",
      "\tbinaries/share/julia/artifacts/55b1a3d509033b500e2c33e984a35f8ed481879a/include/libxml2/libxml/xpath.h\n",
      "\tbinaries/share/julia/artifacts/55b1a3d509033b500e2c33e984a35f8ed481879a/include/libxml2/libxml/xpathInternals.h\n",
      "\tbinaries/share/julia/artifacts/55b1a3d509033b500e2c33e984a35f8ed481879a/include/libxml2/libxml/xpointer.h\n",
      "\tbinaries/share/julia/artifacts/55b1a3d509033b500e2c33e984a35f8ed481879a/lib/libxml2.dll.a\n",
      "\tbinaries/share/julia/artifacts/55b1a3d509033b500e2c33e984a35f8ed481879a/lib/cmake/libxml2/libxml2-config.cmake\n",
      "\tbinaries/share/julia/artifacts/55b1a3d509033b500e2c33e984a35f8ed481879a/lib/pkgconfig/libxml-2.0.pc\n",
      "\tbinaries/share/julia/artifacts/55b1a3d509033b500e2c33e984a35f8ed481879a/share/aclocal/libxml.m4\n",
      "\tbinaries/share/julia/artifacts/55b1a3d509033b500e2c33e984a35f8ed481879a/share/gtk-doc/html/libxml2/general.html\n",
      "\tbinaries/share/julia/artifacts/55b1a3d509033b500e2c33e984a35f8ed481879a/share/gtk-doc/html/libxml2/home.png\n",
      "\tbinaries/share/julia/artifacts/55b1a3d509033b500e2c33e984a35f8ed481879a/share/gtk-doc/html/libxml2/index.html\n",
      "\tbinaries/share/julia/artifacts/55b1a3d509033b500e2c33e984a35f8ed481879a/share/gtk-doc/html/libxml2/left.png\n",
      "\tbinaries/share/julia/artifacts/55b1a3d509033b500e2c33e984a35f8ed481879a/share/gtk-doc/html/libxml2/libxml2-HTMLparser.html\n",
      "\tbinaries/share/julia/artifacts/55b1a3d509033b500e2c33e984a35f8ed481879a/share/gtk-doc/html/libxml2/libxml2-HTMLtree.html\n",
      "\tbinaries/share/julia/artifacts/55b1a3d509033b500e2c33e984a35f8ed481879a/share/gtk-doc/html/libxml2/libxml2-SAX.html\n",
      "\tbinaries/share/julia/artifacts/55b1a3d509033b500e2c33e984a35f8ed481879a/share/gtk-doc/html/libxml2/libxml2-SAX2.html\n",
      "\tbinaries/share/julia/artifacts/55b1a3d509033b500e2c33e984a35f8ed481879a/share/gtk-doc/html/libxml2/libxml2-c14n.html\n",
      "\tbinaries/share/julia/artifacts/55b1a3d509033b500e2c33e984a35f8ed481879a/share/gtk-doc/html/libxml2/libxml2-catalog.html\n",
      "\tbinaries/share/julia/artifacts/55b1a3d509033b500e2c33e984a35f8ed481879a/share/gtk-doc/html/libxml2/libxml2-chvalid.html\n",
      "\tbinaries/share/julia/artifacts/55b1a3d509033b500e2c33e984a35f8ed481879a/share/gtk-doc/html/libxml2/libxml2-debugXML.html\n",
      "\tbinaries/share/julia/artifacts/55b1a3d509033b500e2c33e984a35f8ed481879a/share/gtk-doc/html/libxml2/libxml2-dict.html\n",
      "\tbinaries/share/julia/artifacts/55b1a3d509033b500e2c33e984a35f8ed481879a/share/gtk-doc/html/libxml2/libxml2-encoding.html\n",
      "\tbinaries/share/julia/artifacts/55b1a3d509033b500e2c33e984a35f8ed481879a/share/gtk-doc/html/libxml2/libxml2-entities.html\n",
      "\tbinaries/share/julia/artifacts/55b1a3d509033b500e2c33e984a35f8ed481879a/share/gtk-doc/html/libxml2/libxml2-globals.html\n",
      "\tbinaries/share/julia/artifacts/55b1a3d509033b500e2c33e984a35f8ed481879a/share/gtk-doc/html/libxml2/libxml2-hash.html\n",
      "\tbinaries/share/julia/artifacts/55b1a3d509033b500e2c33e984a35f8ed481879a/share/gtk-doc/html/libxml2/libxml2-list.html\n",
      "\tbinaries/share/julia/artifacts/55b1a3d509033b500e2c33e984a35f8ed481879a/share/gtk-doc/html/libxml2/libxml2-nanoftp.html"
     ]
    },
    {
     "name": "stdout",
     "output_type": "stream",
     "text": [
      "\n",
      "\tbinaries/share/julia/artifacts/55b1a3d509033b500e2c33e984a35f8ed481879a/share/gtk-doc/html/libxml2/libxml2-nanohttp.html\n",
      "\tbinaries/share/julia/artifacts/55b1a3d509033b500e2c33e984a35f8ed481879a/share/gtk-doc/html/libxml2/libxml2-parser.html\n",
      "\tbinaries/share/julia/artifacts/55b1a3d509033b500e2c33e984a35f8ed481879a/share/gtk-doc/html/libxml2/libxml2-parserInternals.html\n",
      "\tbinaries/share/julia/artifacts/55b1a3d509033b500e2c33e984a35f8ed481879a/share/gtk-doc/html/libxml2/libxml2-pattern.html\n",
      "\tbinaries/share/julia/artifacts/55b1a3d509033b500e2c33e984a35f8ed481879a/share/gtk-doc/html/libxml2/libxml2-relaxng.html\n",
      "\tbinaries/share/julia/artifacts/55b1a3d509033b500e2c33e984a35f8ed481879a/share/gtk-doc/html/libxml2/libxml2-schemasInternals.html\n",
      "\tbinaries/share/julia/artifacts/55b1a3d509033b500e2c33e984a35f8ed481879a/share/gtk-doc/html/libxml2/libxml2-schematron.html\n",
      "\tbinaries/share/julia/artifacts/55b1a3d509033b500e2c33e984a35f8ed481879a/share/gtk-doc/html/libxml2/libxml2-threads.html\n",
      "\tbinaries/share/julia/artifacts/55b1a3d509033b500e2c33e984a35f8ed481879a/share/gtk-doc/html/libxml2/libxml2-tree.html\n",
      "\tbinaries/share/julia/artifacts/55b1a3d509033b500e2c33e984a35f8ed481879a/share/gtk-doc/html/libxml2/libxml2-uri.html\n",
      "\tbinaries/share/julia/artifacts/55b1a3d509033b500e2c33e984a35f8ed481879a/share/gtk-doc/html/libxml2/libxml2-valid.html\n",
      "\tbinaries/share/julia/artifacts/55b1a3d509033b500e2c33e984a35f8ed481879a/share/gtk-doc/html/libxml2/libxml2-xinclude.html\n",
      "\tbinaries/share/julia/artifacts/55b1a3d509033b500e2c33e984a35f8ed481879a/share/gtk-doc/html/libxml2/libxml2-xlink.html\n",
      "\tbinaries/share/julia/artifacts/55b1a3d509033b500e2c33e984a35f8ed481879a/share/gtk-doc/html/libxml2/libxml2-xmlIO.html\n",
      "\tbinaries/share/julia/artifacts/55b1a3d509033b500e2c33e984a35f8ed481879a/share/gtk-doc/html/libxml2/libxml2-xmlautomata.html\n",
      "\tbinaries/share/julia/artifacts/55b1a3d509033b500e2c33e984a35f8ed481879a/share/gtk-doc/html/libxml2/libxml2-xmlerror.html\n",
      "\tbinaries/share/julia/artifacts/55b1a3d509033b500e2c33e984a35f8ed481879a/share/gtk-doc/html/libxml2/libxml2-xmlexports.html\n",
      "\tbinaries/share/julia/artifacts/55b1a3d509033b500e2c33e984a35f8ed481879a/share/gtk-doc/html/libxml2/libxml2-xmlmemory.html\n",
      "\tbinaries/share/julia/artifacts/55b1a3d509033b500e2c33e984a35f8ed481879a/share/gtk-doc/html/libxml2/libxml2-xmlmodule.html\n",
      "\tbinaries/share/julia/artifacts/55b1a3d509033b500e2c33e984a35f8ed481879a/share/gtk-doc/html/libxml2/libxml2-xmlreader.html\n",
      "\tbinaries/share/julia/artifacts/55b1a3d509033b500e2c33e984a35f8ed481879a/share/gtk-doc/html/libxml2/libxml2-xmlregexp.html\n",
      "\tbinaries/share/julia/artifacts/55b1a3d509033b500e2c33e984a35f8ed481879a/share/gtk-doc/html/libxml2/libxml2-xmlsave.html\n",
      "\tbinaries/share/julia/artifacts/55b1a3d509033b500e2c33e984a35f8ed481879a/share/gtk-doc/html/libxml2/libxml2-xmlschemas.html\n",
      "\tbinaries/share/julia/artifacts/55b1a3d509033b500e2c33e984a35f8ed481879a/share/gtk-doc/html/libxml2/libxml2-xmlschemastypes.html\n",
      "\tbinaries/share/julia/artifacts/55b1a3d509033b500e2c33e984a35f8ed481879a/share/gtk-doc/html/libxml2/libxml2-xmlstring.html\n",
      "\tbinaries/share/julia/artifacts/55b1a3d509033b500e2c33e984a35f8ed481879a/share/gtk-doc/html/libxml2/libxml2-xmlunicode.html\n",
      "\tbinaries/share/julia/artifacts/55b1a3d509033b500e2c33e984a35f8ed481879a/share/gtk-doc/html/libxml2/libxml2-xmlversion.html\n",
      "\tbinaries/share/julia/artifacts/55b1a3d509033b500e2c33e984a35f8ed481879a/share/gtk-doc/html/libxml2/libxml2-xmlwriter.html\n",
      "\tbinaries/share/julia/artifacts/55b1a3d509033b500e2c33e984a35f8ed481879a/share/gtk-doc/html/libxml2/libxml2-xpath.html\n",
      "\tbinaries/share/julia/artifacts/55b1a3d509033b500e2c33e984a35f8ed481879a/share/gtk-doc/html/libxml2/libxml2-xpathInternals.html"
     ]
    },
    {
     "name": "stdout",
     "output_type": "stream",
     "text": [
      "\n",
      "\tbinaries/share/julia/artifacts/55b1a3d509033b500e2c33e984a35f8ed481879a/share/gtk-doc/html/libxml2/libxml2-xpointer.html\n",
      "\tbinaries/share/julia/artifacts/55b1a3d509033b500e2c33e984a35f8ed481879a/share/gtk-doc/html/libxml2/libxml2.devhelp2\n",
      "\tbinaries/share/julia/artifacts/55b1a3d509033b500e2c33e984a35f8ed481879a/share/gtk-doc/html/libxml2/right.png\n",
      "\tbinaries/share/julia/artifacts/55b1a3d509033b500e2c33e984a35f8ed481879a/share/gtk-doc/html/libxml2/style.css\n",
      "\tbinaries/share/julia/artifacts/55b1a3d509033b500e2c33e984a35f8ed481879a/share/gtk-doc/html/libxml2/up.png\n",
      "\tbinaries/share/julia/artifacts/55b1a3d509033b500e2c33e984a35f8ed481879a/share/licenses/XML2/Copyright\n",
      "\tbinaries/share/julia/artifacts/79e4bc6534ea5a11e42eaf15947a2272949e4865/bin/iconv.exe\n",
      "\tbinaries/share/julia/artifacts/79e4bc6534ea5a11e42eaf15947a2272949e4865/bin/libcharset-1.dll\n",
      "\tbinaries/share/julia/artifacts/79e4bc6534ea5a11e42eaf15947a2272949e4865/bin/libiconv-2.dll\n",
      "\tbinaries/share/julia/artifacts/79e4bc6534ea5a11e42eaf15947a2272949e4865/include/iconv.h\n",
      "\tbinaries/share/julia/artifacts/79e4bc6534ea5a11e42eaf15947a2272949e4865/include/libcharset.h\n",
      "\tbinaries/share/julia/artifacts/79e4bc6534ea5a11e42eaf15947a2272949e4865/include/localcharset.h\n",
      "\tbinaries/share/julia/artifacts/79e4bc6534ea5a11e42eaf15947a2272949e4865/lib/libcharset.a\n",
      "\tbinaries/share/julia/artifacts/79e4bc6534ea5a11e42eaf15947a2272949e4865/lib/libcharset.dll.a\n",
      "\tbinaries/share/julia/artifacts/79e4bc6534ea5a11e42eaf15947a2272949e4865/lib/libiconv.a\n",
      "\tbinaries/share/julia/artifacts/79e4bc6534ea5a11e42eaf15947a2272949e4865/lib/libiconv.dll.a\n",
      "\tbinaries/share/julia/artifacts/79e4bc6534ea5a11e42eaf15947a2272949e4865/lib/pkgconfig/iconv.pc\n",
      "\tbinaries/share/julia/artifacts/79e4bc6534ea5a11e42eaf15947a2272949e4865/share/doc/iconv.1.html\n",
      "\tbinaries/share/julia/artifacts/79e4bc6534ea5a11e42eaf15947a2272949e4865/share/doc/iconv.3.html\n",
      "\tbinaries/share/julia/artifacts/79e4bc6534ea5a11e42eaf15947a2272949e4865/share/doc/iconv_close.3.html\n",
      "\tbinaries/share/julia/artifacts/79e4bc6534ea5a11e42eaf15947a2272949e4865/share/doc/iconv_open.3.html\n",
      "\tbinaries/share/julia/artifacts/79e4bc6534ea5a11e42eaf15947a2272949e4865/share/doc/iconv_open_into.3.html\n",
      "\tbinaries/share/julia/artifacts/79e4bc6534ea5a11e42eaf15947a2272949e4865/share/doc/iconvctl.3.html\n",
      "\tbinaries/share/julia/artifacts/79e4bc6534ea5a11e42eaf15947a2272949e4865/share/licenses/Libiconv/COPYING\n",
      "\tbinaries/share/julia/artifacts/79e4bc6534ea5a11e42eaf15947a2272949e4865/share/man/man1/iconv.1\n"
     ]
    },
    {
     "name": "stdout",
     "output_type": "stream",
     "text": [
      "\tbinaries/share/julia/artifacts/79e4bc6534ea5a11e42eaf15947a2272949e4865/share/man/man3/iconv.3\n",
      "\tbinaries/share/julia/artifacts/79e4bc6534ea5a11e42eaf15947a2272949e4865/share/man/man3/iconv_close.3\n",
      "\tbinaries/share/julia/artifacts/79e4bc6534ea5a11e42eaf15947a2272949e4865/share/man/man3/iconv_open.3\n",
      "\tbinaries/share/julia/artifacts/79e4bc6534ea5a11e42eaf15947a2272949e4865/share/man/man3/iconv_open_into.3\n",
      "\tbinaries/share/julia/artifacts/79e4bc6534ea5a11e42eaf15947a2272949e4865/share/man/man3/iconvctl.3\n",
      "\tbinaries/share/julia/artifacts/a80da89d0fb528913efffff81a0cf1e2ab988cb2/bin/libtbb12.dll\n",
      "\tbinaries/share/julia/artifacts/a80da89d0fb528913efffff81a0cf1e2ab988cb2/bin/libtbbmalloc.dll\n",
      "\tbinaries/share/julia/artifacts/a80da89d0fb528913efffff81a0cf1e2ab988cb2/bin/libtbbmalloc_proxy.dll\n",
      "\tbinaries/share/julia/artifacts/a80da89d0fb528913efffff81a0cf1e2ab988cb2/include/oneapi/tbb.h\n",
      "\tbinaries/share/julia/artifacts/a80da89d0fb528913efffff81a0cf1e2ab988cb2/include/oneapi/tbb/blocked_range.h\n",
      "\tbinaries/share/julia/artifacts/a80da89d0fb528913efffff81a0cf1e2ab988cb2/include/oneapi/tbb/blocked_range2d.h\n",
      "\tbinaries/share/julia/artifacts/a80da89d0fb528913efffff81a0cf1e2ab988cb2/include/oneapi/tbb/blocked_range3d.h\n",
      "\tbinaries/share/julia/artifacts/a80da89d0fb528913efffff81a0cf1e2ab988cb2/include/oneapi/tbb/blocked_rangeNd.h\n",
      "\tbinaries/share/julia/artifacts/a80da89d0fb528913efffff81a0cf1e2ab988cb2/include/oneapi/tbb/cache_aligned_allocator.h\n",
      "\tbinaries/share/julia/artifacts/a80da89d0fb528913efffff81a0cf1e2ab988cb2/include/oneapi/tbb/collaborative_call_once.h\n",
      "\tbinaries/share/julia/artifacts/a80da89d0fb528913efffff81a0cf1e2ab988cb2/include/oneapi/tbb/combinable.h\n",
      "\tbinaries/share/julia/artifacts/a80da89d0fb528913efffff81a0cf1e2ab988cb2/include/oneapi/tbb/concurrent_hash_map.h\n",
      "\tbinaries/share/julia/artifacts/a80da89d0fb528913efffff81a0cf1e2ab988cb2/include/oneapi/tbb/concurrent_lru_cache.h\n",
      "\tbinaries/share/julia/artifacts/a80da89d0fb528913efffff81a0cf1e2ab988cb2/include/oneapi/tbb/concurrent_map.h\n",
      "\tbinaries/share/julia/artifacts/a80da89d0fb528913efffff81a0cf1e2ab988cb2/include/oneapi/tbb/concurrent_priority_queue.h\n",
      "\tbinaries/share/julia/artifacts/a80da89d0fb528913efffff81a0cf1e2ab988cb2/include/oneapi/tbb/concurrent_queue.h\n",
      "\tbinaries/share/julia/artifacts/a80da89d0fb528913efffff81a0cf1e2ab988cb2/include/oneapi/tbb/concurrent_set.h\n",
      "\tbinaries/share/julia/artifacts/a80da89d0fb528913efffff81a0cf1e2ab988cb2/include/oneapi/tbb/concurrent_unordered_map.h\n",
      "\tbinaries/share/julia/artifacts/a80da89d0fb528913efffff81a0cf1e2ab988cb2/include/oneapi/tbb/concurrent_unordered_set.h\n",
      "\tbinaries/share/julia/artifacts/a80da89d0fb528913efffff81a0cf1e2ab988cb2/include/oneapi/tbb/concurrent_vector.h\n",
      "\tbinaries/share/julia/artifacts/a80da89d0fb528913efffff81a0cf1e2ab988cb2/include/oneapi/tbb/enumerable_thread_specific.h\n",
      "\tbinaries/share/julia/artifacts/a80da89d0fb528913efffff81a0cf1e2ab988cb2/include/oneapi/tbb/flow_graph.h\n",
      "\tbinaries/share/julia/artifacts/a80da89d0fb528913efffff81a0cf1e2ab988cb2/include/oneapi/tbb/flow_graph_abstractions.h\n",
      "\tbinaries/share/julia/artifacts/a80da89d0fb528913efffff81a0cf1e2ab988cb2/include/oneapi/tbb/global_control.h\n",
      "\tbinaries/share/julia/artifacts/a80da89d0fb528913efffff81a0cf1e2ab988cb2/include/oneapi/tbb/info.h\n",
      "\tbinaries/share/julia/artifacts/a80da89d0fb528913efffff81a0cf1e2ab988cb2/include/oneapi/tbb/memory_pool.h\n",
      "\tbinaries/share/julia/artifacts/a80da89d0fb528913efffff81a0cf1e2ab988cb2/include/oneapi/tbb/mutex.h\n",
      "\tbinaries/share/julia/artifacts/a80da89d0fb528913efffff81a0cf1e2ab988cb2/include/oneapi/tbb/null_mutex.h\n",
      "\tbinaries/share/julia/artifacts/a80da89d0fb528913efffff81a0cf1e2ab988cb2/include/oneapi/tbb/null_rw_mutex.h\n",
      "\tbinaries/share/julia/artifacts/a80da89d0fb528913efffff81a0cf1e2ab988cb2/include/oneapi/tbb/parallel_for.h\n",
      "\tbinaries/share/julia/artifacts/a80da89d0fb528913efffff81a0cf1e2ab988cb2/include/oneapi/tbb/parallel_for_each.h\n",
      "\tbinaries/share/julia/artifacts/a80da89d0fb528913efffff81a0cf1e2ab988cb2/include/oneapi/tbb/parallel_invoke.h\n",
      "\tbinaries/share/julia/artifacts/a80da89d0fb528913efffff81a0cf1e2ab988cb2/include/oneapi/tbb/parallel_pipeline.h\n",
      "\tbinaries/share/julia/artifacts/a80da89d0fb528913efffff81a0cf1e2ab988cb2/include/oneapi/tbb/parallel_reduce.h\n",
      "\tbinaries/share/julia/artifacts/a80da89d0fb528913efffff81a0cf1e2ab988cb2/include/oneapi/tbb/parallel_scan.h\n",
      "\tbinaries/share/julia/artifacts/a80da89d0fb528913efffff81a0cf1e2ab988cb2/include/oneapi/tbb/parallel_sort.h\n",
      "\tbinaries/share/julia/artifacts/a80da89d0fb528913efffff81a0cf1e2ab988cb2/include/oneapi/tbb/partitioner.h\n",
      "\tbinaries/share/julia/artifacts/a80da89d0fb528913efffff81a0cf1e2ab988cb2/include/oneapi/tbb/profiling.h\n",
      "\tbinaries/share/julia/artifacts/a80da89d0fb528913efffff81a0cf1e2ab988cb2/include/oneapi/tbb/queuing_mutex.h\n",
      "\tbinaries/share/julia/artifacts/a80da89d0fb528913efffff81a0cf1e2ab988cb2/include/oneapi/tbb/queuing_rw_mutex.h\n",
      "\tbinaries/share/julia/artifacts/a80da89d0fb528913efffff81a0cf1e2ab988cb2/include/oneapi/tbb/rw_mutex.h\n",
      "\tbinaries/share/julia/artifacts/a80da89d0fb528913efffff81a0cf1e2ab988cb2/include/oneapi/tbb/scalable_allocator.h\n",
      "\tbinaries/share/julia/artifacts/a80da89d0fb528913efffff81a0cf1e2ab988cb2/include/oneapi/tbb/spin_mutex.h\n",
      "\tbinaries/share/julia/artifacts/a80da89d0fb528913efffff81a0cf1e2ab988cb2/include/oneapi/tbb/spin_rw_mutex.h\n",
      "\tbinaries/share/julia/artifacts/a80da89d0fb528913efffff81a0cf1e2ab988cb2/include/oneapi/tbb/task.h\n",
      "\tbinaries/share/julia/artifacts/a80da89d0fb528913efffff81a0cf1e2ab988cb2/include/oneapi/tbb/task_arena.h\n",
      "\tbinaries/share/julia/artifacts/a80da89d0fb528913efffff81a0cf1e2ab988cb2/include/oneapi/tbb/task_group.h\n",
      "\tbinaries/share/julia/artifacts/a80da89d0fb528913efffff81a0cf1e2ab988cb2/include/oneapi/tbb/task_scheduler_observer.h\n",
      "\tbinaries/share/julia/artifacts/a80da89d0fb528913efffff81a0cf1e2ab988cb2/include/oneapi/tbb/tbb_allocator.h\n",
      "\tbinaries/share/julia/artifacts/a80da89d0fb528913efffff81a0cf1e2ab988cb2/include/oneapi/tbb/tbbmalloc_proxy.h\n",
      "\tbinaries/share/julia/artifacts/a80da89d0fb528913efffff81a0cf1e2ab988cb2/include/oneapi/tbb/tick_count.h\n",
      "\tbinaries/share/julia/artifacts/a80da89d0fb528913efffff81a0cf1e2ab988cb2/include/oneapi/tbb/version.h\n",
      "\tbinaries/share/julia/artifacts/a80da89d0fb528913efffff81a0cf1e2ab988cb2/include/oneapi/tbb/detail/_aggregator.h\n",
      "\tbinaries/share/julia/artifacts/a80da89d0fb528913efffff81a0cf1e2ab988cb2/include/oneapi/tbb/detail/_aligned_space.h\n",
      "\tbinaries/share/julia/artifacts/a80da89d0fb528913efffff81a0cf1e2ab988cb2/include/oneapi/tbb/detail/_allocator_traits.h\n",
      "\tbinaries/share/julia/artifacts/a80da89d0fb528913efffff81a0cf1e2ab988cb2/include/oneapi/tbb/detail/_assert.h\n",
      "\tbinaries/share/julia/artifacts/a80da89d0fb528913efffff81a0cf1e2ab988cb2/include/oneapi/tbb/detail/_attach.h\n",
      "\tbinaries/share/julia/artifacts/a80da89d0fb528913efffff81a0cf1e2ab988cb2/include/oneapi/tbb/detail/_concurrent_queue_base.h\n",
      "\tbinaries/share/julia/artifacts/a80da89d0fb528913efffff81a0cf1e2ab988cb2/include/oneapi/tbb/detail/_concurrent_skip_list.h\n",
      "\tbinaries/share/julia/artifacts/a80da89d0fb528913efffff81a0cf1e2ab988cb2/include/oneapi/tbb/detail/_concurrent_unordered_base.h\n",
      "\tbinaries/share/julia/artifacts/a80da89d0fb528913efffff81a0cf1e2ab988cb2/include/oneapi/tbb/detail/_config.h\n",
      "\tbinaries/share/julia/artifacts/a80da89d0fb528913efffff81a0cf1e2ab988cb2/include/oneapi/tbb/detail/_containers_helpers.h\n",
      "\tbinaries/share/julia/artifacts/a80da89d0fb528913efffff81a0cf1e2ab988cb2/include/oneapi/tbb/detail/_exception.h\n",
      "\tbinaries/share/julia/artifacts/a80da89d0fb528913efffff81a0cf1e2ab988cb2/include/oneapi/tbb/detail/_export.h\n",
      "\tbinaries/share/julia/artifacts/a80da89d0fb528913efffff81a0cf1e2ab988cb2/include/oneapi/tbb/detail/_flow_graph_body_impl.h\n",
      "\tbinaries/share/julia/artifacts/a80da89d0fb528913efffff81a0cf1e2ab988cb2/include/oneapi/tbb/detail/_flow_graph_cache_impl.h\n",
      "\tbinaries/share/julia/artifacts/a80da89d0fb528913efffff81a0cf1e2ab988cb2/include/oneapi/tbb/detail/_flow_graph_impl.h\n",
      "\tbinaries/share/julia/artifacts/a80da89d0fb528913efffff81a0cf1e2ab988cb2/include/oneapi/tbb/detail/_flow_graph_indexer_impl.h\n",
      "\tbinaries/share/julia/artifacts/a80da89d0fb528913efffff81a0cf1e2ab988cb2/include/oneapi/tbb/detail/_flow_graph_item_buffer_impl.h\n",
      "\tbinaries/share/julia/artifacts/a80da89d0fb528913efffff81a0cf1e2ab988cb2/include/oneapi/tbb/detail/_flow_graph_join_impl.h\n",
      "\tbinaries/share/julia/artifacts/a80da89d0fb528913efffff81a0cf1e2ab988cb2/include/oneapi/tbb/detail/_flow_graph_node_impl.h\n",
      "\tbinaries/share/julia/artifacts/a80da89d0fb528913efffff81a0cf1e2ab988cb2/include/oneapi/tbb/detail/_flow_graph_node_set_impl.h\n",
      "\tbinaries/share/julia/artifacts/a80da89d0fb528913efffff81a0cf1e2ab988cb2/include/oneapi/tbb/detail/_flow_graph_nodes_deduction.h\n",
      "\tbinaries/share/julia/artifacts/a80da89d0fb528913efffff81a0cf1e2ab988cb2/include/oneapi/tbb/detail/_flow_graph_tagged_buffer_impl.h\n",
      "\tbinaries/share/julia/artifacts/a80da89d0fb528913efffff81a0cf1e2ab988cb2/include/oneapi/tbb/detail/_flow_graph_trace_impl.h\n",
      "\tbinaries/share/julia/artifacts/a80da89d0fb528913efffff81a0cf1e2ab988cb2/include/oneapi/tbb/detail/_flow_graph_types_impl.h\n",
      "\tbinaries/share/julia/artifacts/a80da89d0fb528913efffff81a0cf1e2ab988cb2/include/oneapi/tbb/detail/_hash_compare.h\n",
      "\tbinaries/share/julia/artifacts/a80da89d0fb528913efffff81a0cf1e2ab988cb2/include/oneapi/tbb/detail/_intrusive_list_node.h\n",
      "\tbinaries/share/julia/artifacts/a80da89d0fb528913efffff81a0cf1e2ab988cb2/include/oneapi/tbb/detail/_machine.h\n",
      "\tbinaries/share/julia/artifacts/a80da89d0fb528913efffff81a0cf1e2ab988cb2/include/oneapi/tbb/detail/_mutex_common.h\n",
      "\tbinaries/share/julia/artifacts/a80da89d0fb528913efffff81a0cf1e2ab988cb2/include/oneapi/tbb/detail/_namespace_injection.h\n",
      "\tbinaries/share/julia/artifacts/a80da89d0fb528913efffff81a0cf1e2ab988cb2/include/oneapi/tbb/detail/_node_handle.h\n",
      "\tbinaries/share/julia/artifacts/a80da89d0fb528913efffff81a0cf1e2ab988cb2/include/oneapi/tbb/detail/_pipeline_filters.h\n",
      "\tbinaries/share/julia/artifacts/a80da89d0fb528913efffff81a0cf1e2ab988cb2/include/oneapi/tbb/detail/_pipeline_filters_deduction.h\n",
      "\tbinaries/share/julia/artifacts/a80da89d0fb528913efffff81a0cf1e2ab988cb2/include/oneapi/tbb/detail/_range_common.h\n",
      "\tbinaries/share/julia/artifacts/a80da89d0fb528913efffff81a0cf1e2ab988cb2/include/oneapi/tbb/detail/_rtm_mutex.h\n",
      "\tbinaries/share/julia/artifacts/a80da89d0fb528913efffff81a0cf1e2ab988cb2/include/oneapi/tbb/detail/_rtm_rw_mutex.h"
     ]
    },
    {
     "name": "stdout",
     "output_type": "stream",
     "text": [
      "\n",
      "\tbinaries/share/julia/artifacts/a80da89d0fb528913efffff81a0cf1e2ab988cb2/include/oneapi/tbb/detail/_scoped_lock.h\n",
      "\tbinaries/share/julia/artifacts/a80da89d0fb528913efffff81a0cf1e2ab988cb2/include/oneapi/tbb/detail/_segment_table.h\n",
      "\tbinaries/share/julia/artifacts/a80da89d0fb528913efffff81a0cf1e2ab988cb2/include/oneapi/tbb/detail/_small_object_pool.h\n",
      "\tbinaries/share/julia/artifacts/a80da89d0fb528913efffff81a0cf1e2ab988cb2/include/oneapi/tbb/detail/_string_resource.h\n",
      "\tbinaries/share/julia/artifacts/a80da89d0fb528913efffff81a0cf1e2ab988cb2/include/oneapi/tbb/detail/_task.h\n",
      "\tbinaries/share/julia/artifacts/a80da89d0fb528913efffff81a0cf1e2ab988cb2/include/oneapi/tbb/detail/_task_handle.h\n",
      "\tbinaries/share/julia/artifacts/a80da89d0fb528913efffff81a0cf1e2ab988cb2/include/oneapi/tbb/detail/_template_helpers.h\n",
      "\tbinaries/share/julia/artifacts/a80da89d0fb528913efffff81a0cf1e2ab988cb2/include/oneapi/tbb/detail/_utils.h\n",
      "\tbinaries/share/julia/artifacts/a80da89d0fb528913efffff81a0cf1e2ab988cb2/include/oneapi/tbb/detail/_waitable_atomic.h\n",
      "\tbinaries/share/julia/artifacts/a80da89d0fb528913efffff81a0cf1e2ab988cb2/include/tbb/blocked_range.h\n",
      "\tbinaries/share/julia/artifacts/a80da89d0fb528913efffff81a0cf1e2ab988cb2/include/tbb/blocked_range2d.h\n",
      "\tbinaries/share/julia/artifacts/a80da89d0fb528913efffff81a0cf1e2ab988cb2/include/tbb/blocked_range3d.h\n",
      "\tbinaries/share/julia/artifacts/a80da89d0fb528913efffff81a0cf1e2ab988cb2/include/tbb/blocked_rangeNd.h\n",
      "\tbinaries/share/julia/artifacts/a80da89d0fb528913efffff81a0cf1e2ab988cb2/include/tbb/cache_aligned_allocator.h\n",
      "\tbinaries/share/julia/artifacts/a80da89d0fb528913efffff81a0cf1e2ab988cb2/include/tbb/collaborative_call_once.h\n",
      "\tbinaries/share/julia/artifacts/a80da89d0fb528913efffff81a0cf1e2ab988cb2/include/tbb/combinable.h\n",
      "\tbinaries/share/julia/artifacts/a80da89d0fb528913efffff81a0cf1e2ab988cb2/include/tbb/concurrent_hash_map.h\n",
      "\tbinaries/share/julia/artifacts/a80da89d0fb528913efffff81a0cf1e2ab988cb2/include/tbb/concurrent_lru_cache.h\n",
      "\tbinaries/share/julia/artifacts/a80da89d0fb528913efffff81a0cf1e2ab988cb2/include/tbb/concurrent_map.h\n",
      "\tbinaries/share/julia/artifacts/a80da89d0fb528913efffff81a0cf1e2ab988cb2/include/tbb/concurrent_priority_queue.h\n",
      "\tbinaries/share/julia/artifacts/a80da89d0fb528913efffff81a0cf1e2ab988cb2/include/tbb/concurrent_queue.h\n",
      "\tbinaries/share/julia/artifacts/a80da89d0fb528913efffff81a0cf1e2ab988cb2/include/tbb/concurrent_set.h\n",
      "\tbinaries/share/julia/artifacts/a80da89d0fb528913efffff81a0cf1e2ab988cb2/include/tbb/concurrent_unordered_map.h\n",
      "\tbinaries/share/julia/artifacts/a80da89d0fb528913efffff81a0cf1e2ab988cb2/include/tbb/concurrent_unordered_set.h\n",
      "\tbinaries/share/julia/artifacts/a80da89d0fb528913efffff81a0cf1e2ab988cb2/include/tbb/concurrent_vector.h\n",
      "\tbinaries/share/julia/artifacts/a80da89d0fb528913efffff81a0cf1e2ab988cb2/include/tbb/enumerable_thread_specific.h\n",
      "\tbinaries/share/julia/artifacts/a80da89d0fb528913efffff81a0cf1e2ab988cb2/include/tbb/flow_graph.h\n",
      "\tbinaries/share/julia/artifacts/a80da89d0fb528913efffff81a0cf1e2ab988cb2/include/tbb/flow_graph_abstractions.h\n",
      "\tbinaries/share/julia/artifacts/a80da89d0fb528913efffff81a0cf1e2ab988cb2/include/tbb/global_control.h\n",
      "\tbinaries/share/julia/artifacts/a80da89d0fb528913efffff81a0cf1e2ab988cb2/include/tbb/info.h\n",
      "\tbinaries/share/julia/artifacts/a80da89d0fb528913efffff81a0cf1e2ab988cb2/include/tbb/memory_pool.h\n",
      "\tbinaries/share/julia/artifacts/a80da89d0fb528913efffff81a0cf1e2ab988cb2/include/tbb/mutex.h\n",
      "\tbinaries/share/julia/artifacts/a80da89d0fb528913efffff81a0cf1e2ab988cb2/include/tbb/null_mutex.h\n",
      "\tbinaries/share/julia/artifacts/a80da89d0fb528913efffff81a0cf1e2ab988cb2/include/tbb/null_rw_mutex.h\n",
      "\tbinaries/share/julia/artifacts/a80da89d0fb528913efffff81a0cf1e2ab988cb2/include/tbb/parallel_for.h\n",
      "\tbinaries/share/julia/artifacts/a80da89d0fb528913efffff81a0cf1e2ab988cb2/include/tbb/parallel_for_each.h\n",
      "\tbinaries/share/julia/artifacts/a80da89d0fb528913efffff81a0cf1e2ab988cb2/include/tbb/parallel_invoke.h\n",
      "\tbinaries/share/julia/artifacts/a80da89d0fb528913efffff81a0cf1e2ab988cb2/include/tbb/parallel_pipeline.h\n",
      "\tbinaries/share/julia/artifacts/a80da89d0fb528913efffff81a0cf1e2ab988cb2/include/tbb/parallel_reduce.h\n",
      "\tbinaries/share/julia/artifacts/a80da89d0fb528913efffff81a0cf1e2ab988cb2/include/tbb/parallel_scan.h\n",
      "\tbinaries/share/julia/artifacts/a80da89d0fb528913efffff81a0cf1e2ab988cb2/include/tbb/parallel_sort.h\n",
      "\tbinaries/share/julia/artifacts/a80da89d0fb528913efffff81a0cf1e2ab988cb2/include/tbb/partitioner.h\n",
      "\tbinaries/share/julia/artifacts/a80da89d0fb528913efffff81a0cf1e2ab988cb2/include/tbb/profiling.h\n",
      "\tbinaries/share/julia/artifacts/a80da89d0fb528913efffff81a0cf1e2ab988cb2/include/tbb/queuing_mutex.h\n",
      "\tbinaries/share/julia/artifacts/a80da89d0fb528913efffff81a0cf1e2ab988cb2/include/tbb/queuing_rw_mutex.h\n",
      "\tbinaries/share/julia/artifacts/a80da89d0fb528913efffff81a0cf1e2ab988cb2/include/tbb/rw_mutex.h\n",
      "\tbinaries/share/julia/artifacts/a80da89d0fb528913efffff81a0cf1e2ab988cb2/include/tbb/scalable_allocator.h\n",
      "\tbinaries/share/julia/artifacts/a80da89d0fb528913efffff81a0cf1e2ab988cb2/include/tbb/spin_mutex.h\n",
      "\tbinaries/share/julia/artifacts/a80da89d0fb528913efffff81a0cf1e2ab988cb2/include/tbb/spin_rw_mutex.h\n",
      "\tbinaries/share/julia/artifacts/a80da89d0fb528913efffff81a0cf1e2ab988cb2/include/tbb/task.h\n",
      "\tbinaries/share/julia/artifacts/a80da89d0fb528913efffff81a0cf1e2ab988cb2/include/tbb/task_arena.h\n",
      "\tbinaries/share/julia/artifacts/a80da89d0fb528913efffff81a0cf1e2ab988cb2/include/tbb/task_group.h\n",
      "\tbinaries/share/julia/artifacts/a80da89d0fb528913efffff81a0cf1e2ab988cb2/include/tbb/task_scheduler_observer.h\n",
      "\tbinaries/share/julia/artifacts/a80da89d0fb528913efffff81a0cf1e2ab988cb2/include/tbb/tbb.h\n",
      "\tbinaries/share/julia/artifacts/a80da89d0fb528913efffff81a0cf1e2ab988cb2/include/tbb/tbb_allocator.h\n",
      "\tbinaries/share/julia/artifacts/a80da89d0fb528913efffff81a0cf1e2ab988cb2/include/tbb/tbbmalloc_proxy.h\n",
      "\tbinaries/share/julia/artifacts/a80da89d0fb528913efffff81a0cf1e2ab988cb2/include/tbb/tick_count.h\n",
      "\tbinaries/share/julia/artifacts/a80da89d0fb528913efffff81a0cf1e2ab988cb2/include/tbb/version.h\n",
      "\tbinaries/share/julia/artifacts/a80da89d0fb528913efffff81a0cf1e2ab988cb2/lib/libtbb12.dll.a\n",
      "\tbinaries/share/julia/artifacts/a80da89d0fb528913efffff81a0cf1e2ab988cb2/lib/libtbbmalloc.dll.a\n",
      "\tbinaries/share/julia/artifacts/a80da89d0fb528913efffff81a0cf1e2ab988cb2/lib/libtbbmalloc_proxy.dll.a\n",
      "\tbinaries/share/julia/artifacts/a80da89d0fb528913efffff81a0cf1e2ab988cb2/lib/cmake/TBB/TBBConfig.cmake\n",
      "\tbinaries/share/julia/artifacts/a80da89d0fb528913efffff81a0cf1e2ab988cb2/lib/cmake/TBB/TBBConfigVersion.cmake\n",
      "\tbinaries/share/julia/artifacts/a80da89d0fb528913efffff81a0cf1e2ab988cb2/lib/cmake/TBB/TBBTargets-release.cmake\n",
      "\tbinaries/share/julia/artifacts/a80da89d0fb528913efffff81a0cf1e2ab988cb2/lib/cmake/TBB/TBBTargets.cmake\n",
      "\tbinaries/share/julia/artifacts/a80da89d0fb528913efffff81a0cf1e2ab988cb2/lib/pkgconfig/tbb.pc\n",
      "\tbinaries/share/julia/artifacts/a80da89d0fb528913efffff81a0cf1e2ab988cb2/share/doc/TBB/README.md\n"
     ]
    },
    {
     "name": "stdout",
     "output_type": "stream",
     "text": [
      "\tbinaries/share/julia/artifacts/a80da89d0fb528913efffff81a0cf1e2ab988cb2/share/licenses/oneTBB/LICENSE.txt\n",
      "\tbinaries/win64/BouncingBall.dll"
     ]
    },
    {
     "name": "stdout",
     "output_type": "stream",
     "text": [
      "\n",
      "\tbinaries/win64/libLLVM-15jl.dll\n"
     ]
    },
    {
     "name": "stdout",
     "output_type": "stream",
     "text": [
      "\tbinaries/win64/libamd.dll\n",
      "\tbinaries/win64/libatomic-1.dll\n",
      "\tbinaries/win64/libblastrampoline-5.dll\n",
      "\tbinaries/win64/libbtf.dll\n",
      "\tbinaries/win64/libcamd.dll\n",
      "\tbinaries/win64/libccolamd.dll\n",
      "\tbinaries/win64/libcholmod.dll\n",
      "\tbinaries/win64/libcolamd.dll\n",
      "\tbinaries/win64/libcurl-4.dll\n",
      "\tbinaries/win64/libdSFMT.dll\n",
      "\tbinaries/win64/libgcc_s_seh-1.dll\n",
      "\tbinaries/win64/libgfortran-5.dll\n",
      "\tbinaries/win64/libgit2.dll\n",
      "\tbinaries/win64/libgmp-10.dll\n",
      "\tbinaries/win64/libgmp.dll\n",
      "\tbinaries/win64/libgmpxx-4.dll\n",
      "\tbinaries/win64/libgmpxx.dll\n",
      "\tbinaries/win64/libgomp-1.dll\n",
      "\tbinaries/win64/libjulia-codegen.dll\n"
     ]
    },
    {
     "name": "stdout",
     "output_type": "stream",
     "text": [
      "\tbinaries/win64/libjulia-internal.dll\n",
      "\tbinaries/win64/libjulia.dll\n",
      "\tbinaries/win64/libklu.dll\n",
      "\tbinaries/win64/libklu_cholmod.dll\n",
      "\tbinaries/win64/libldl.dll\n",
      "\tbinaries/win64/libmbedcrypto.dll\n",
      "\tbinaries/win64/libmbedtls.dll\n",
      "\tbinaries/win64/libmbedx509.dll\n",
      "\tbinaries/win64/libmpfr-6.dll\n",
      "\tbinaries/win64/libmpfr.dll\n",
      "\tbinaries/win64/libnghttp2-14.dll\n",
      "\tbinaries/win64/libopenblas64_.dll\n",
      "\tbinaries/win64/libopenlibm.dll\n",
      "\tbinaries/win64/libpcre2-16-0.dll\n",
      "\tbinaries/win64/libpcre2-16.dll\n",
      "\tbinaries/win64/libpcre2-32-0.dll\n",
      "\tbinaries/win64/libpcre2-32.dll\n",
      "\tbinaries/win64/libpcre2-8-0.dll\n",
      "\tbinaries/win64/libpcre2-8.dll"
     ]
    },
    {
     "name": "stdout",
     "output_type": "stream",
     "text": [
      "\n",
      "\tbinaries/win64/libpcre2-posix-3.dll\n",
      "\tbinaries/win64/libquadmath-0.dll\n",
      "\tbinaries/win64/librbio.dll\n",
      "\tbinaries/win64/libspqr.dll\n",
      "\tbinaries/win64/libssh2.dll\n",
      "\tbinaries/win64/libssp-0.dll"
     ]
    },
    {
     "name": "stdout",
     "output_type": "stream",
     "text": [
      "\n",
      "\tbinaries/win64/libstdc++-6.dll\n"
     ]
    },
    {
     "name": "stdout",
     "output_type": "stream",
     "text": [
      "\tbinaries/win64/libsuitesparseconfig.dll\n",
      "\tbinaries/win64/libumfpack.dll\n",
      "\tbinaries/win64/libuv-2.dll\n",
      "\tbinaries/win64/libwinpthread-1.dll\n",
      "\tbinaries/win64/libz.dll\n"
     ]
    },
    {
     "name": "stderr",
     "output_type": "stream",
     "text": [
      "\u001b[36m\u001b[1m[ \u001b[22m\u001b[39m\u001b[36m\u001b[1mInfo: \u001b[22m\u001b[39m[Build FMU] ... zipping FMU done.\n",
      "\u001b[36m\u001b[1m[ \u001b[22m\u001b[39m\u001b[36m\u001b[1mInfo: \u001b[22m\u001b[39m[Build FMU] Clean up ...\n",
      "\u001b[36m\u001b[1m[ \u001b[22m\u001b[39m\u001b[36m\u001b[1mInfo: \u001b[22m\u001b[39m[Build FMU] ... clean up done.\n",
      "\u001b[36m\u001b[1m[ \u001b[22m\u001b[39m\u001b[36m\u001b[1mInfo: \u001b[22m\u001b[39mFMU-Export succeeded after 16m 22s (1.5% packing time)\n"
     ]
    },
    {
     "data": {
      "text/plain": [
       "true"
      ]
     },
     "execution_count": 7,
     "metadata": {},
     "output_type": "execute_result"
    }
   ],
   "source": [
    "saveFMU(fmu, fmu_save_path, fmu_source_path; debug=false, compress=false) # feel free to set debug true, disabled for documentation building\n",
    "#saveFMU(fmu_save_path, fmu_source_path; debug=false, compress=false) this meight be the format after the next release"
   ]
  },
  {
   "cell_type": "markdown",
   "id": "a511bfeb-df91-4aaf-85cf-5bb6b78a1b3f",
   "metadata": {},
   "source": [
    "Now we will grab the generated FMU and move it to a path, where it will be included in this documentation"
   ]
  },
  {
   "cell_type": "code",
   "execution_count": 8,
   "id": "9a4261b9-b5aa-4932-a5a5-6af70f5033a6",
   "metadata": {
    "execution": {
     "iopub.execute_input": "2024-11-04T10:32:09.145000Z",
     "iopub.status.busy": "2024-11-04T10:32:09.145000Z",
     "iopub.status.idle": "2024-11-04T10:32:09.614000Z",
     "shell.execute_reply": "2024-11-04T10:32:09.614000Z"
    }
   },
   "outputs": [
    {
     "data": {
      "text/plain": [
       "\"Export-BouncingBall_files\\\\BouncingBall.fmu\""
      ]
     },
     "execution_count": 8,
     "metadata": {},
     "output_type": "execute_result"
    }
   ],
   "source": [
    "mkpath(\"Export-BouncingBall_files\")\n",
    "cp(fmu_save_path, joinpath(\"Export-BouncingBall_files\", \"BouncingBall.fmu\"))"
   ]
  },
  {
   "cell_type": "markdown",
   "id": "1f982a2c-f7e6-45b9-a7d0-2e315ee0404e",
   "metadata": {},
   "source": [
    "One current limitation of Julia-FMUs is, that they can not be imported back into Julia, as it is currently not allowed having two Julia-sys-images existing at the same time within the same process. (The Julia FMU comes bundeled with its own image) \n",
    "\n",
    "TODO Therefore we will test our generated FMU in Python unsing FMPy."
   ]
  }
 ],
 "metadata": {
  "kernelspec": {
   "display_name": "Julia 1.10.6",
   "language": "julia",
   "name": "julia-1.10"
  },
  "language_info": {
   "file_extension": ".jl",
   "mimetype": "application/julia",
   "name": "julia",
   "version": "1.10.6"
  }
 },
 "nbformat": 4,
 "nbformat_minor": 5
}
